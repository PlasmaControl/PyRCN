{
 "cells": [
  {
   "cell_type": "markdown",
   "metadata": {},
   "source": [
    "# Multipitch tracking using Echo State Networks\n",
    "\n",
    "## Introduction\n",
    "\n",
    "In this notebook, we demonstrate how the ESN can deal with multipitch tracking, a challenging multilabel classification problem in music analysis.\n",
    "\n",
    "As this is a computationally expensive task, we have pre-trained models to serve as an entry point.\n",
    "\n",
    "At first, we import all packages required for this task. You can find the import statements below."
   ]
  },
  {
   "cell_type": "code",
   "execution_count": null,
   "metadata": {},
   "outputs": [],
   "source": [
    "import time\n",
    "import numpy as np\n",
    "import os\n",
    "import csv\n",
    "from sklearn.base import clone\n",
    "from sklearn.metrics import make_scorer\n",
    "from sklearn.pipeline import Pipeline\n",
    "from sklearn.model_selection import GridSearchCV, RandomizedSearchCV\n",
    "from joblib import dump, load\n",
    "\n",
    "import librosa\n",
    "from madmom.processors import SequentialProcessor, ParallelProcessor\n",
    "from madmom.audio import SignalProcessor, FramedSignalProcessor\n",
    "from madmom.audio.stft import ShortTimeFourierTransformProcessor\n",
    "from madmom.audio.filters import LogarithmicFilterbank\n",
    "from madmom.audio.spectrogram import FilteredSpectrogramProcessor, LogarithmicSpectrogramProcessor, SpectrogramDifferenceProcessor\n",
    "\n",
    "from pyrcn.util import FeatureExtractor\n",
    "from pyrcn.echo_state_network import ESNClassifier\n",
    "from pyrcn.datasets import fetch_maps_piano_dataset\n",
    "from pyrcn.metrics import accuracy_score\n",
    "from pyrcn.model_selection import SequentialSearchCV\n",
    "\n",
    "from matplotlib import pyplot as plt\n",
    "from matplotlib import ticker\n",
    "plt.rcParams[\"font.family\"] = \"Times New Roman\"\n",
    "plt.rcParams[\"font.size\"] = 10\n",
    "%matplotlib inline\n",
    "\n",
    "import pandas as pd\n",
    "import seaborn as sns\n",
    "sns.set_theme()\n",
    "from mir_eval import multipitch"
   ]
  },
  {
   "cell_type": "markdown",
   "metadata": {},
   "source": [
    "## Feature extraction\n",
    "\n",
    "The acoustic features extracted from the input signal are obtained by filtering short-term spectra (window length 4096 samples and hop size 10 ms) with a bank of triangular filters in the frequency domain with log-spaced frequencies. The frequency range was 30 Hz to 17 000 Hz and we used 12 filters per octave. We used logarithmic magnitudes and added 1 inside the logarithm to ensure a minimum value of 0 for a frame without energy. The first derivative between adjacent frames was added in order to enrich the features by temporal information. Binary labels indicating absent (value 0) or present (value 1) pitches for each frame are assigned to each frame. Note that this task is a multilabel classification. Each MIDI pitch is a separate class, and multiple or no classes can be active at a discrete frame index.\n",
    "\n",
    "For a more detailed description, please have a look in our repository ([https://github.com/TUD-STKS/Automatic-Music-Transcription](https://github.com/TUD-STKS/Automatic-Music-Transcription)) with several detailed examples for music analysis tasks."
   ]
  },
  {
   "cell_type": "code",
   "execution_count": null,
   "metadata": {},
   "outputs": [],
   "source": [
    "def create_feature_extraction_pipeline(sr=44100, frame_sizes=[1024, 2048, 4096], fps_hz=100.):\n",
    "    audio_loading = Pipeline([(\"load_audio\", FeatureExtractor(librosa.load, sr=sr, mono=True)),\n",
    "                              (\"normalize\", FeatureExtractor(librosa.util.normalize, norm=np.inf))])\n",
    "\n",
    "    sig = SignalProcessor(num_channels=1, sample_rate=sr)\n",
    "    multi = ParallelProcessor([])\n",
    "    for frame_size in frame_sizes:\n",
    "        frames = FramedSignalProcessor(frame_size=frame_size, fps=fps_hz)\n",
    "        stft = ShortTimeFourierTransformProcessor()  # caching FFT window\n",
    "        filt = FilteredSpectrogramProcessor(filterbank=LogarithmicFilterbank, num_bands=12, fmin=30, fmax=17000,\n",
    "                                            norm_filters=True, unique_filters=True)\n",
    "        spec = LogarithmicSpectrogramProcessor(log=np.log10, mul=5, add=1)\n",
    "        diff = SpectrogramDifferenceProcessor(diff_ratio=0.5, positive_diffs=True, stack_diffs=np.hstack)\n",
    "        # process each frame size with spec and diff sequentially\n",
    "        multi.append(SequentialProcessor([frames, stft, filt, spec, diff]))\n",
    "    feature_extractor = FeatureExtractor(SequentialProcessor([sig, multi, np.hstack]))\n",
    "\n",
    "    feature_extraction_pipeline = Pipeline([(\"audio_loading\", audio_loading),\n",
    "                                            (\"feature_extractor\", feature_extractor)])\n",
    "    return feature_extraction_pipeline"
   ]
  },
  {
   "cell_type": "markdown",
   "metadata": {},
   "source": [
    "## Load and preprocess the dataset\n",
    "\n",
    "This might require a large amount of time and memory. "
   ]
  },
  {
   "cell_type": "code",
   "execution_count": null,
   "metadata": {},
   "outputs": [],
   "source": [
    "# Load and preprocess the dataset\n",
    "feature_extraction_pipeline = create_feature_extraction_pipeline(sr=44100, frame_sizes=[2048], fps_hz=100)\n",
    "# New object -> PyTorch dataloader / Matlab datastore\n",
    "X_train, X_test, y_train, y_test = fetch_maps_piano_dataset(data_origin=\"/projects/p_transcriber/MAPS\", \n",
    "                                                            data_home=None, preprocessor=feature_extraction_pipeline,\n",
    "                                                            force_preprocessing=False, label_type=\"pitch\")"
   ]
  },
  {
   "cell_type": "code",
   "execution_count": null,
   "metadata": {},
   "outputs": [],
   "source": [
    "def tsplot(ax, data,**kw):\n",
    "    x = np.arange(data.shape[1])\n",
    "    est = np.mean(data, axis=0)\n",
    "    sd = np.std(data, axis=0)\n",
    "    cis = (est - sd, est + sd)\n",
    "    ax.fill_between(x,cis[0],cis[1],alpha=0.2, **kw)\n",
    "    ax.plot(x,est,**kw)\n",
    "    ax.margins(x=0)\n",
    "\n",
    "fig, ax = plt.subplots()\n",
    "fig.set_size_inches(4, 1.25)\n",
    "tsplot(ax, np.concatenate(np.hstack((X_train, X_test))))\n",
    "ax.set_xlabel('Feature Index')\n",
    "ax.set_ylabel('Magnitude')\n",
    "# plt.savefig('features_statistics.pdf', bbox_inches='tight', pad_inches=0)"
   ]
  },
  {
   "cell_type": "markdown",
   "metadata": {},
   "source": [
    "## Set up a ESN\n",
    "\n",
    "To develop an ESN model for multipitch tracking, we need to tune several hyper-parameters, e.g., input_scaling, spectral_radius, bias_scaling and leaky integration.\n",
    "\n",
    "We follow the way proposed in the paper for multipitch tracking and for acoustic modeling of piano music to optimize hyper-parameters sequentially.\n",
    "\n",
    "We define the search spaces for each step together with the type of search (a grid search in this context).\n",
    "\n",
    "At last, we initialize an ESNClassifier with the desired output strategy and with the initially fixed parameters."
   ]
  },
  {
   "cell_type": "code",
   "execution_count": null,
   "metadata": {},
   "outputs": [],
   "source": [
    "initially_fixed_params = {'hidden_layer_size': 500,\n",
    "                          'input_activation': 'identity',\n",
    "                          'k_in': 10,\n",
    "                          'bias_scaling': 0.0,\n",
    "                          'reservoir_activation': 'tanh',\n",
    "                          'leakage': 1.0,\n",
    "                          'bidirectional': False,\n",
    "                          'k_rec': 10,\n",
    "                          'alpha': 1e-5,\n",
    "                          'random_state': 42,\n",
    "                          'requires_sequence': True}\n",
    "\n",
    "step1_esn_params = {'leakage': np.linspace(0.1, 1.0, 10)}\n",
    "kwargs_1 = {'random_state': 42, 'verbose': 2, 'n_jobs': 70, 'pre_dispatch': 70, 'n_iter': 14,\n",
    "           'scoring': make_scorer(accuracy_score)}\n",
    "step2_esn_params = {'input_scaling': np.linspace(0.1, 1.0, 10),\n",
    "                    'spectral_radius': np.linspace(0.0, 1.5, 16)}\n",
    "\n",
    "step3_esn_params = {'bias_scaling': np.linspace(0.0, 2.0, 21)}\n",
    "\n",
    "kwargs_2_3 = {'verbose': 2, 'pre_dispatch': 70, 'n_jobs': 70, \n",
    "              'scoring': make_scorer(accuracy_score)}\n",
    "\n",
    "# The searches are defined similarly to the steps of a sklearn.pipeline.Pipeline:\n",
    "searches = [('step1', GridSearchCV, step1_esn_params, kwargs_1),\n",
    "            ('step2', GridSearchCV, step2_esn_params, kwargs_2_3),\n",
    "            ('step3', GridSearchCV, step3_esn_params, kwargs_2_3)]\n",
    "\n",
    "base_esn = ESNClassifier(**initially_fixed_params)"
   ]
  },
  {
   "cell_type": "markdown",
   "metadata": {},
   "source": [
    "## Optimization\n",
    "\n",
    "We provide a SequentialSearchCV that basically iterates through the list of searches that we have defined before. It can be combined with any model selection tool from scikit-learn."
   ]
  },
  {
   "cell_type": "code",
   "execution_count": null,
   "metadata": {},
   "outputs": [],
   "source": [
    "try: \n",
    "    sequential_search = load(\"sequential_search_ll.joblib\")\n",
    "except FileNotFoundError:\n",
    "    print(FileNotFoundError)\n",
    "    sequential_search = SequentialSearchCV(base_esn, searches=searches).fit(X_train, y_train)\n",
    "    dump(sequential_search, \"sequential_search_ll.joblib\")"
   ]
  },
  {
   "cell_type": "markdown",
   "metadata": {},
   "source": [
    "## Visualize hyper-parameter optimization"
   ]
  },
  {
   "cell_type": "code",
   "execution_count": null,
   "metadata": {},
   "outputs": [],
   "source": [
    "df = pd.DataFrame(sequential_search.all_cv_results_[\"step1\"])\n",
    "fig, axs = plt.subplots()\n",
    "sns.lineplot(data=df, x=\"param_leakage\", y=\"mean_test_score\", ax=axs)\n",
    "axs.set_xlabel(\"Leakage\")\n",
    "axs.set_ylabel(\"Score\")\n",
    "tick_locator = ticker.MaxNLocator(5)\n",
    "axs.xaxis.set_major_locator(tick_locator)\n",
    "axs.yaxis.set_major_formatter(ticker.FormatStrFormatter('%.4f'))"
   ]
  },
  {
   "cell_type": "code",
   "execution_count": null,
   "metadata": {},
   "outputs": [],
   "source": [
    "df = pd.DataFrame(sequential_search.all_cv_results_[\"step2\"])\n",
    "pvt = pd.pivot_table(df,\n",
    "                     values='mean_test_score', index='param_input_scaling', columns='param_spectral_radius')\n",
    "\n",
    "pvt.columns = pvt.columns.astype(float)\n",
    "pvt2 =  pd.DataFrame(pvt.loc[pd.IndexSlice[0:1], pd.IndexSlice[0.0:1.0]])\n",
    "\n",
    "fig, axs = plt.subplots()\n",
    "sns.heatmap(pvt2, xticklabels=pvt2.columns.values.round(2), yticklabels=pvt2.index.values.round(2), cbar_kws={'label': 'Score'}, ax=axs)\n",
    "axs.invert_yaxis()\n",
    "axs.set_xlabel(\"Spectral Radius\")\n",
    "axs.set_ylabel(\"Input Scaling\")\n",
    "tick_locator = ticker.MaxNLocator(10)\n",
    "axs.yaxis.set_major_locator(tick_locator)\n",
    "axs.xaxis.set_major_locator(tick_locator)"
   ]
  },
  {
   "cell_type": "code",
   "execution_count": null,
   "metadata": {},
   "outputs": [],
   "source": [
    "df = pd.DataFrame(sequential_search.all_cv_results_[\"step3\"])\n",
    "fig, axs = plt.subplots()\n",
    "sns.lineplot(data=df, x=\"param_bias_scaling\", y=\"mean_test_score\", ax=axs)\n",
    "axs.set_xlabel(\"Bias Scaling\")\n",
    "axs.set_ylabel(\"Score\")\n",
    "axs.set_xlim((0, 2))\n",
    "tick_locator = ticker.MaxNLocator(5)\n",
    "axs.xaxis.set_major_locator(tick_locator)\n",
    "axs.yaxis.set_major_formatter(ticker.FormatStrFormatter('%.5f'))"
   ]
  },
  {
   "cell_type": "markdown",
   "metadata": {},
   "source": [
    "## Test the ESN\n",
    "\n",
    "Finally, we test the ESN on unseen data."
   ]
  },
  {
   "cell_type": "code",
   "execution_count": null,
   "metadata": {},
   "outputs": [],
   "source": [
    "def _midi_to_frequency(p):\n",
    "    return 440. * (2 ** ((p-69)/12))\n",
    "\n",
    "\n",
    "def get_mir_eval_rows(y, fps=100.):\n",
    "    time_t = np.arange(len(y)) / fps\n",
    "    freq_hz = [_midi_to_frequency(np.asarray(np.nonzero(row))).ravel() for row in y]\n",
    "    return time_t, freq_hz"
   ]
  },
  {
   "cell_type": "code",
   "execution_count": null,
   "metadata": {},
   "outputs": [],
   "source": [
    "esn = sequential_search.best_estimator_\n",
    "y_test_pred = esn.predict_proba(X=X_test)\n",
    "scores = np.zeros(shape=(10, 14))\n",
    "for k, thr in enumerate(np.linspace(0.1, 0.9, 9)):\n",
    "    res = []\n",
    "    for y_true, y_pred in zip(y_test, y_test_pred):\n",
    "        times_res, freqs_hz_res = get_mir_eval_rows(y_pred[:, 1:]>thr, fps=100.)\n",
    "        times_ref, freqs_hz_ref = get_mir_eval_rows(y_true[:, 1:]>thr, fps=100.)\n",
    "        res.append(multipitch.metrics(ref_time=times_ref, ref_freqs=freqs_hz_ref, est_time=times_res, est_freqs=freqs_hz_res))\n",
    "    scores[k, :] = np.mean(res, axis=0)"
   ]
  },
  {
   "cell_type": "code",
   "execution_count": null,
   "metadata": {},
   "outputs": [],
   "source": [
    "fig, axs = plt.subplots()\n",
    "sns.lineplot(x=np.linspace(0.1, 1, 10), y=scores[:, :3], ax=axs)\n",
    "sns.lineplot(x=np.linspace(0.1, 1, 10), y=2*scores[:, 0]*scores[:, 1] / (scores[:, 0] + scores[:, 1]), ax=axs)\n",
    "axs.set_xlabel(\"Threshold\")\n",
    "axs.set_ylabel(\"Scores\")\n",
    "axs.set_xlim((0.1, 0.9))\n",
    "plt.legend((\"Precision\", \"Recall\", \"Accuracy\", \"F1-Score\"))"
   ]
  },
  {
   "cell_type": "code",
   "execution_count": null,
   "metadata": {},
   "outputs": [],
   "source": []
  }
 ],
 "metadata": {
  "kernelspec": {
   "display_name": "Python 3 (ipykernel)",
   "language": "python",
   "name": "python3"
  },
  "language_info": {
   "codemirror_mode": {
    "name": "ipython",
    "version": 3
   },
   "file_extension": ".py",
   "mimetype": "text/x-python",
   "name": "python",
   "nbconvert_exporter": "python",
   "pygments_lexer": "ipython3",
   "version": "3.8.6"
  }
 },
 "nbformat": 4,
 "nbformat_minor": 4
}
