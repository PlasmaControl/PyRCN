{
 "cells": [
  {
   "cell_type": "markdown",
   "metadata": {
    "collapsed": true,
    "pycharm": {
     "name": "#%% md\n"
    }
   },
   "source": [
    "# Stock Price Prediction using Echo State Networks\n",
    "\n",
    "## Introduction\n",
    "\n",
    "Time Series Prediction is one important regression task, which can be solved using several machine learning techniques.\n",
    "\n",
    "In this notebook, we briefly introduce one very basic example for time series prediction:\n",
    "\n",
    "Stock Price Prediction\n",
    "\n",
    "Disclaimer: We are signal processing experts, not financial advisors. Do not use any of the models presented herein to steer your investments.\n",
    "\n",
    "At first, we need to import all required packages"
   ]
  },
  {
   "cell_type": "code",
   "execution_count": null,
   "metadata": {
    "pycharm": {
     "name": "#%%\n"
    }
   },
   "outputs": [],
   "source": [
    "import numpy as np\n",
    "import pandas as pd\n",
    "from sklearn.preprocessing import MinMaxScaler\n",
    "from sklearn.metrics import mean_squared_error\n",
    "\n",
    "from matplotlib import pyplot as plt\n",
    "plt.rcParams['image.cmap'] = 'jet'\n",
    "plt.rcParams['pdf.fonttype'] = 42\n",
    "plt.rcParams['ps.fonttype'] = 42\n",
    "%matplotlib inline\n",
    "\n",
    "from IPython.display import set_matplotlib_formats\n",
    "set_matplotlib_formats('png', 'pdf')\n",
    "\n",
    "from pyrcn.echo_state_network import ESNRegressor\n",
    "from pyrcn.linear_model import IncrementalRegression\n",
    "from pyrcn.base import InputToNode, NodeToNode"
   ]
  },
  {
   "cell_type": "markdown",
   "metadata": {},
   "source": [
    "## Loading and visualizing stock prices\n",
    "\n",
    "A good ressource for stock prices is Yahoo Finance ([https://finance.yahoo.com/](https://finance.yahoo.com/)), where a\n",
    "lot of financial data can be downloaded as csv files.\n",
    "\n",
    "We have already downloaded several stock prices, which are all stored in the directory \"dataset\".\n",
    "\n",
    "Now, we are working with the gold price in USD (Gold Aug 20(GC=F)) between 2000-02-28 and 2020-05-28."
   ]
  },
  {
   "cell_type": "code",
   "execution_count": null,
   "metadata": {
    "pycharm": {
     "name": "#%%\n"
    }
   },
   "outputs": [],
   "source": [
    "time_series = pd.read_csv(filepath_or_buffer=\"./dataset/GC=F.csv\")\n",
    "time_series.head()"
   ]
  },
  {
   "cell_type": "markdown",
   "metadata": {},
   "source": [
    "Analyzing the dataset, we can analyze the structure. The first column is the date, the second column is the open value,\n",
    "e.g. the first value of a day.\n",
    "The third column is the highest value of a specific day, the fourth column the lowest and \"Close\" is the final value of\n",
    "a day. The \"Adj Close\" is a corrected  final value, I DON 'T YET KNOW ANYTHING ABOUT VOLUME!!!\n",
    "\n",
    "Here, we just use the \"Close\" value, the final value of one day. "
   ]
  },
  {
   "cell_type": "code",
   "execution_count": null,
   "metadata": {
    "pycharm": {
     "name": "#%%\n"
    }
   },
   "outputs": [],
   "source": [
    "time_series = time_series.drop(columns=[\"Open\", \"High\", \"Low\", \"Adj Close\", \"Volume\"], axis=1)\n",
    "time_series = time_series.dropna()\n",
    "time_series.head()"
   ]
  },
  {
   "cell_type": "markdown",
   "metadata": {},
   "source": [
    "As one can see, the stock price trends upwards for the first few thousand days. Then goes down at around $n=3300$ before climbing again after around $n = 4900$. "
   ]
  },
  {
   "cell_type": "code",
   "execution_count": null,
   "metadata": {
    "pycharm": {
     "name": "#%%\n"
    }
   },
   "outputs": [],
   "source": [
    "plt.figure()\n",
    "time_series.plot(x='Date', y='Close', legend=False, grid=True)\n",
    "plt.xlabel(\"Timestamp\")\n",
    "plt.ylabel(\"Price\")"
   ]
  },
  {
   "cell_type": "markdown",
   "metadata": {},
   "source": [
    "We pre-processed the dataset by removing undefined values, namely, weekends and public holidays. The remaining values were normalized to be in a range of $[0 1]$."
   ]
  },
  {
   "cell_type": "code",
   "execution_count": null,
   "metadata": {
    "pycharm": {
     "name": "#%%\n"
    }
   },
   "outputs": [],
   "source": [
    "prices = np.asarray(time_series['Close'])\n",
    "\n",
    "scaler = MinMaxScaler()\n",
    "prices = scaler.fit_transform(X=prices.reshape(-1, 1))"
   ]
  },
  {
   "cell_type": "markdown",
   "metadata": {},
   "source": [
    "Define Train/Test lengths:\n",
    "\n",
    "The first 3000 values were used to train the ESN and to optimize the hyper-parameters and the rest for testing. "
   ]
  },
  {
   "cell_type": "code",
   "execution_count": null,
   "metadata": {
    "pycharm": {
     "name": "#%%\n"
    }
   },
   "outputs": [],
   "source": [
    "train_len = 3000\n",
    "future_len = 1\n",
    "future_total = len(prices) - train_len"
   ]
  },
  {
   "cell_type": "markdown",
   "metadata": {},
   "source": [
    "Echo State Network preparation"
   ]
  },
  {
   "cell_type": "code",
   "execution_count": null,
   "metadata": {
    "pycharm": {
     "name": "#%%\n"
    }
   },
   "outputs": [],
   "source": [
    "base_input_to_nodes = InputToNode(hidden_layer_size=100, activation='identity', k_in=1, input_scaling=0.6, bias_scaling=0.0)\n",
    "base_nodes_to_nodes = NodeToNode(hidden_layer_size=100, spectral_radius=0.9, leakage=1.0, bias_scaling=0.0, k_rec=10)\n",
    "\n",
    "esn = ESNRegressor(input_to_node=base_input_to_nodes,\n",
    "                   node_to_node=base_nodes_to_nodes,\n",
    "                   regressor=IncrementalRegression(alpha=1e-8), random_state=10)"
   ]
  },
  {
   "cell_type": "markdown",
   "metadata": {},
   "source": [
    "Training and Prediction."
   ]
  },
  {
   "cell_type": "code",
   "execution_count": null,
   "metadata": {
    "pycharm": {
     "name": "#%%\n"
    }
   },
   "outputs": [],
   "source": [
    "train_in = prices[0:train_len, :]\n",
    "train_out = prices[0+1:train_len+1, :]\n",
    "test_in = prices[0:train_len+future_total - future_len, :]\n",
    "test_out = prices[future_len:train_len+future_total, :]\n",
    "\n",
    "esn.fit(X=train_in, y=train_out.ravel())\n",
    "train_pred = esn.predict(X=train_in)\n",
    "test_pred = esn.predict(X=test_in)\n",
    "\n",
    "train_err = mean_squared_error(y_true=train_out, y_pred=train_pred)\n",
    "test_err = mean_squared_error(y_true=test_out[train_len+1:, :], y_pred=test_pred[train_len+1:])\n",
    "\n",
    "print(\"Train MSE:\\t{0}\".format(train_err))\n",
    "print(\"Test MSE:\\t{0}\".format(test_err))"
   ]
  },
  {
   "cell_type": "markdown",
   "metadata": {
    "pycharm": {
     "name": "#%% md\n"
    }
   },
   "source": [
    "We see that the ESN even captures the downward trend in the test set, although it has not seen any longer downward movement during the training."
   ]
  },
  {
   "cell_type": "code",
   "execution_count": null,
   "metadata": {
    "pycharm": {
     "name": "#%%\n"
    }
   },
   "outputs": [],
   "source": [
    "prices_pred = np.empty_like(prices)\n",
    "prices_pred[:] = np.nan\n",
    "prices_pred[train_len + future_len:, 0] = test_pred[train_len:]\n",
    "\n",
    "plt.figure()\n",
    "plt.plot(scaler.inverse_transform(test_out), label='Target')\n",
    "plt.plot(scaler.inverse_transform(prices_pred), label='Predicted')\n",
    "plt.xlabel(\"Timestamp\")\n",
    "plt.ylabel(\"Price\")\n",
    "plt.legend()"
   ]
  },
  {
   "cell_type": "markdown",
   "metadata": {},
   "source": [
    "Disclaimer: We are signal processing experts, not financial advisors. Do not use any of the models presented herein to steer your investments."
   ]
  }
 ],
 "metadata": {
  "kernelspec": {
   "display_name": "Python 3",
   "language": "python",
   "name": "python3"
  },
  "language_info": {
   "codemirror_mode": {
    "name": "ipython",
    "version": 3
   },
   "file_extension": ".py",
   "mimetype": "text/x-python",
   "name": "python",
   "nbconvert_exporter": "python",
   "pygments_lexer": "ipython3",
   "version": "3.7.5"
  }
 },
 "nbformat": 4,
 "nbformat_minor": 1
}
