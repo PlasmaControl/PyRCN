{
 "cells": [
  {
   "cell_type": "markdown",
   "metadata": {
    "collapsed": true,
    "pycharm": {
     "name": "#%% md\n"
    }
   },
   "source": [
    "# Stock Price Prediction using Echo State Networks\n",
    "\n",
    "## Introduction\n",
    "\n",
    "Time Series Prediction is one important regression task, which can be solved using several machine learning techniques.\n",
    "\n",
    "In this notebook, we briefly introduce one very basic example for time series prediction:\n",
    "\n",
    "Stock Price Prediction\n",
    "\n",
    "Disclaimer: We are signal processing experts, not financial advisors. Do not use any of the models presented herein to steer your investments.\n",
    "\n",
    "At first, we need to import all required packages"
   ]
  },
  {
   "cell_type": "code",
   "execution_count": 1,
   "metadata": {
    "pycharm": {
     "name": "#%%\n"
    }
   },
   "outputs": [],
   "source": [
    "import numpy as np\n",
    "import pandas as pd\n",
    "from sklearn.preprocessing import MinMaxScaler\n",
    "from sklearn.metrics import mean_squared_error\n",
    "\n",
    "from matplotlib import pyplot as plt\n",
    "import seaborn as sns\n",
    "%matplotlib inline\n",
    "\n",
    "from pyrcn.echo_state_network import ESNRegressor\n",
    "from pyrcn.linear_model import IncrementalRegression\n",
    "from pyrcn.base.blocks import InputToNode, NodeToNode\n",
    "\n",
    "sns.set_theme()"
   ]
  },
  {
   "cell_type": "markdown",
   "metadata": {},
   "source": [
    "## Loading and visualizing stock prices\n",
    "\n",
    "A good ressource for stock prices is Yahoo Finance ([https://finance.yahoo.com/](https://finance.yahoo.com/)), where a\n",
    "lot of financial data can be downloaded as csv files.\n",
    "\n",
    "We have already downloaded several stock prices, which are all stored in the directory \"dataset\".\n",
    "\n",
    "Now, we are working with the gold price in USD (Gold Aug 20(GC=F)) between 2000-02-28 and 2020-05-28."
   ]
  },
  {
   "cell_type": "code",
   "execution_count": 2,
   "metadata": {
    "pycharm": {
     "name": "#%%\n"
    }
   },
   "outputs": [],
   "source": [
    "df = pd.read_csv(\"./GC=F.csv\", delimiter=\",\")"
   ]
  },
  {
   "cell_type": "markdown",
   "metadata": {},
   "source": [
    "Analyzing the dataset, we can analyze the structure. The first column is the date, the second column is the open value,\n",
    "e.g. the first value of a day.\n",
    "The third column is the highest value of a specific day, the fourth column the lowest and \"Close\" is the final value of\n",
    "a day. The \"Adj Close\" is a corrected  final value, I DON 'T YET KNOW ANYTHING ABOUT VOLUME!!!\n",
    "\n",
    "Here, we just use the \"Close\" value, the final value of one day. "
   ]
  },
  {
   "cell_type": "code",
   "execution_count": 7,
   "metadata": {},
   "outputs": [
    {
     "data": {
      "text/html": [
       "<div>\n",
       "<style scoped>\n",
       "    .dataframe tbody tr th:only-of-type {\n",
       "        vertical-align: middle;\n",
       "    }\n",
       "\n",
       "    .dataframe tbody tr th {\n",
       "        vertical-align: top;\n",
       "    }\n",
       "\n",
       "    .dataframe thead th {\n",
       "        text-align: right;\n",
       "    }\n",
       "</style>\n",
       "<table border=\"1\" class=\"dataframe\">\n",
       "  <thead>\n",
       "    <tr style=\"text-align: right;\">\n",
       "      <th></th>\n",
       "      <th>Date</th>\n",
       "      <th>Open</th>\n",
       "      <th>High</th>\n",
       "      <th>Low</th>\n",
       "      <th>Close</th>\n",
       "      <th>Adj Close</th>\n",
       "      <th>Volume</th>\n",
       "    </tr>\n",
       "  </thead>\n",
       "  <tbody>\n",
       "    <tr>\n",
       "      <th>0</th>\n",
       "      <td>2000-02-28</td>\n",
       "      <td>292.299988</td>\n",
       "      <td>292.500000</td>\n",
       "      <td>292.299988</td>\n",
       "      <td>292.500000</td>\n",
       "      <td>292.500000</td>\n",
       "      <td>4.0</td>\n",
       "    </tr>\n",
       "    <tr>\n",
       "      <th>1</th>\n",
       "      <td>2000-02-29</td>\n",
       "      <td>292.399994</td>\n",
       "      <td>292.399994</td>\n",
       "      <td>292.399994</td>\n",
       "      <td>292.399994</td>\n",
       "      <td>292.399994</td>\n",
       "      <td>7.0</td>\n",
       "    </tr>\n",
       "    <tr>\n",
       "      <th>2</th>\n",
       "      <td>2000-03-01</td>\n",
       "      <td>291.500000</td>\n",
       "      <td>291.500000</td>\n",
       "      <td>291.500000</td>\n",
       "      <td>291.500000</td>\n",
       "      <td>291.500000</td>\n",
       "      <td>0.0</td>\n",
       "    </tr>\n",
       "    <tr>\n",
       "      <th>3</th>\n",
       "      <td>2000-03-02</td>\n",
       "      <td>288.200012</td>\n",
       "      <td>291.500000</td>\n",
       "      <td>288.000000</td>\n",
       "      <td>288.200012</td>\n",
       "      <td>288.200012</td>\n",
       "      <td>100.0</td>\n",
       "    </tr>\n",
       "    <tr>\n",
       "      <th>4</th>\n",
       "      <td>2000-03-03</td>\n",
       "      <td>288.799988</td>\n",
       "      <td>288.799988</td>\n",
       "      <td>288.799988</td>\n",
       "      <td>288.799988</td>\n",
       "      <td>288.799988</td>\n",
       "      <td>10.0</td>\n",
       "    </tr>\n",
       "    <tr>\n",
       "      <th>5</th>\n",
       "      <td>2000-03-05</td>\n",
       "      <td>NaN</td>\n",
       "      <td>NaN</td>\n",
       "      <td>NaN</td>\n",
       "      <td>NaN</td>\n",
       "      <td>NaN</td>\n",
       "      <td>NaN</td>\n",
       "    </tr>\n",
       "    <tr>\n",
       "      <th>6</th>\n",
       "      <td>2000-03-06</td>\n",
       "      <td>287.899994</td>\n",
       "      <td>287.899994</td>\n",
       "      <td>287.899994</td>\n",
       "      <td>287.899994</td>\n",
       "      <td>287.899994</td>\n",
       "      <td>0.0</td>\n",
       "    </tr>\n",
       "    <tr>\n",
       "      <th>7</th>\n",
       "      <td>2000-03-07</td>\n",
       "      <td>292.200012</td>\n",
       "      <td>292.200012</td>\n",
       "      <td>292.200012</td>\n",
       "      <td>292.200012</td>\n",
       "      <td>292.200012</td>\n",
       "      <td>0.0</td>\n",
       "    </tr>\n",
       "    <tr>\n",
       "      <th>8</th>\n",
       "      <td>2000-03-08</td>\n",
       "      <td>288.899994</td>\n",
       "      <td>288.899994</td>\n",
       "      <td>288.899994</td>\n",
       "      <td>288.899994</td>\n",
       "      <td>288.899994</td>\n",
       "      <td>100.0</td>\n",
       "    </tr>\n",
       "    <tr>\n",
       "      <th>9</th>\n",
       "      <td>2000-03-09</td>\n",
       "      <td>291.200012</td>\n",
       "      <td>291.200012</td>\n",
       "      <td>291.200012</td>\n",
       "      <td>291.200012</td>\n",
       "      <td>291.200012</td>\n",
       "      <td>0.0</td>\n",
       "    </tr>\n",
       "  </tbody>\n",
       "</table>\n",
       "</div>"
      ],
      "text/plain": [
       "         Date        Open        High         Low       Close   Adj Close  \\\n",
       "0  2000-02-28  292.299988  292.500000  292.299988  292.500000  292.500000   \n",
       "1  2000-02-29  292.399994  292.399994  292.399994  292.399994  292.399994   \n",
       "2  2000-03-01  291.500000  291.500000  291.500000  291.500000  291.500000   \n",
       "3  2000-03-02  288.200012  291.500000  288.000000  288.200012  288.200012   \n",
       "4  2000-03-03  288.799988  288.799988  288.799988  288.799988  288.799988   \n",
       "5  2000-03-05         NaN         NaN         NaN         NaN         NaN   \n",
       "6  2000-03-06  287.899994  287.899994  287.899994  287.899994  287.899994   \n",
       "7  2000-03-07  292.200012  292.200012  292.200012  292.200012  292.200012   \n",
       "8  2000-03-08  288.899994  288.899994  288.899994  288.899994  288.899994   \n",
       "9  2000-03-09  291.200012  291.200012  291.200012  291.200012  291.200012   \n",
       "\n",
       "   Volume  \n",
       "0     4.0  \n",
       "1     7.0  \n",
       "2     0.0  \n",
       "3   100.0  \n",
       "4    10.0  \n",
       "5     NaN  \n",
       "6     0.0  \n",
       "7     0.0  \n",
       "8   100.0  \n",
       "9     0.0  "
      ]
     },
     "execution_count": 7,
     "metadata": {},
     "output_type": "execute_result"
    }
   ],
   "source": [
    "df.head(n=10)"
   ]
  },
  {
   "cell_type": "code",
   "execution_count": 11,
   "metadata": {
    "pycharm": {
     "name": "#%%\n"
    }
   },
   "outputs": [
    {
     "data": {
      "text/html": [
       "<div>\n",
       "<style scoped>\n",
       "    .dataframe tbody tr th:only-of-type {\n",
       "        vertical-align: middle;\n",
       "    }\n",
       "\n",
       "    .dataframe tbody tr th {\n",
       "        vertical-align: top;\n",
       "    }\n",
       "\n",
       "    .dataframe thead th {\n",
       "        text-align: right;\n",
       "    }\n",
       "</style>\n",
       "<table border=\"1\" class=\"dataframe\">\n",
       "  <thead>\n",
       "    <tr style=\"text-align: right;\">\n",
       "      <th></th>\n",
       "      <th>Date</th>\n",
       "      <th>Open</th>\n",
       "      <th>High</th>\n",
       "      <th>Low</th>\n",
       "      <th>Close</th>\n",
       "      <th>Adj Close</th>\n",
       "      <th>Volume</th>\n",
       "    </tr>\n",
       "  </thead>\n",
       "  <tbody>\n",
       "    <tr>\n",
       "      <th>0</th>\n",
       "      <td>2000-02-28</td>\n",
       "      <td>292.299988</td>\n",
       "      <td>292.500000</td>\n",
       "      <td>292.299988</td>\n",
       "      <td>292.500000</td>\n",
       "      <td>292.500000</td>\n",
       "      <td>4.0</td>\n",
       "    </tr>\n",
       "    <tr>\n",
       "      <th>1</th>\n",
       "      <td>2000-02-29</td>\n",
       "      <td>292.399994</td>\n",
       "      <td>292.399994</td>\n",
       "      <td>292.399994</td>\n",
       "      <td>292.399994</td>\n",
       "      <td>292.399994</td>\n",
       "      <td>7.0</td>\n",
       "    </tr>\n",
       "    <tr>\n",
       "      <th>2</th>\n",
       "      <td>2000-03-01</td>\n",
       "      <td>291.500000</td>\n",
       "      <td>291.500000</td>\n",
       "      <td>291.500000</td>\n",
       "      <td>291.500000</td>\n",
       "      <td>291.500000</td>\n",
       "      <td>0.0</td>\n",
       "    </tr>\n",
       "    <tr>\n",
       "      <th>3</th>\n",
       "      <td>2000-03-02</td>\n",
       "      <td>288.200012</td>\n",
       "      <td>291.500000</td>\n",
       "      <td>288.000000</td>\n",
       "      <td>288.200012</td>\n",
       "      <td>288.200012</td>\n",
       "      <td>100.0</td>\n",
       "    </tr>\n",
       "    <tr>\n",
       "      <th>4</th>\n",
       "      <td>2000-03-03</td>\n",
       "      <td>288.799988</td>\n",
       "      <td>288.799988</td>\n",
       "      <td>288.799988</td>\n",
       "      <td>288.799988</td>\n",
       "      <td>288.799988</td>\n",
       "      <td>10.0</td>\n",
       "    </tr>\n",
       "    <tr>\n",
       "      <th>6</th>\n",
       "      <td>2000-03-06</td>\n",
       "      <td>287.899994</td>\n",
       "      <td>287.899994</td>\n",
       "      <td>287.899994</td>\n",
       "      <td>287.899994</td>\n",
       "      <td>287.899994</td>\n",
       "      <td>0.0</td>\n",
       "    </tr>\n",
       "    <tr>\n",
       "      <th>7</th>\n",
       "      <td>2000-03-07</td>\n",
       "      <td>292.200012</td>\n",
       "      <td>292.200012</td>\n",
       "      <td>292.200012</td>\n",
       "      <td>292.200012</td>\n",
       "      <td>292.200012</td>\n",
       "      <td>0.0</td>\n",
       "    </tr>\n",
       "    <tr>\n",
       "      <th>8</th>\n",
       "      <td>2000-03-08</td>\n",
       "      <td>288.899994</td>\n",
       "      <td>288.899994</td>\n",
       "      <td>288.899994</td>\n",
       "      <td>288.899994</td>\n",
       "      <td>288.899994</td>\n",
       "      <td>100.0</td>\n",
       "    </tr>\n",
       "    <tr>\n",
       "      <th>9</th>\n",
       "      <td>2000-03-09</td>\n",
       "      <td>291.200012</td>\n",
       "      <td>291.200012</td>\n",
       "      <td>291.200012</td>\n",
       "      <td>291.200012</td>\n",
       "      <td>291.200012</td>\n",
       "      <td>0.0</td>\n",
       "    </tr>\n",
       "    <tr>\n",
       "      <th>10</th>\n",
       "      <td>2000-03-10</td>\n",
       "      <td>288.600006</td>\n",
       "      <td>288.600006</td>\n",
       "      <td>288.600006</td>\n",
       "      <td>288.600006</td>\n",
       "      <td>288.600006</td>\n",
       "      <td>4.0</td>\n",
       "    </tr>\n",
       "  </tbody>\n",
       "</table>\n",
       "</div>"
      ],
      "text/plain": [
       "         Date        Open        High         Low       Close   Adj Close  \\\n",
       "0  2000-02-28  292.299988  292.500000  292.299988  292.500000  292.500000   \n",
       "1  2000-02-29  292.399994  292.399994  292.399994  292.399994  292.399994   \n",
       "2  2000-03-01  291.500000  291.500000  291.500000  291.500000  291.500000   \n",
       "3  2000-03-02  288.200012  291.500000  288.000000  288.200012  288.200012   \n",
       "4  2000-03-03  288.799988  288.799988  288.799988  288.799988  288.799988   \n",
       "6  2000-03-06  287.899994  287.899994  287.899994  287.899994  287.899994   \n",
       "7  2000-03-07  292.200012  292.200012  292.200012  292.200012  292.200012   \n",
       "8  2000-03-08  288.899994  288.899994  288.899994  288.899994  288.899994   \n",
       "9  2000-03-09  291.200012  291.200012  291.200012  291.200012  291.200012   \n",
       "10 2000-03-10  288.600006  288.600006  288.600006  288.600006  288.600006   \n",
       "\n",
       "    Volume  \n",
       "0      4.0  \n",
       "1      7.0  \n",
       "2      0.0  \n",
       "3    100.0  \n",
       "4     10.0  \n",
       "6      0.0  \n",
       "7      0.0  \n",
       "8    100.0  \n",
       "9      0.0  \n",
       "10     4.0  "
      ]
     },
     "execution_count": 11,
     "metadata": {},
     "output_type": "execute_result"
    }
   ],
   "source": [
    "df.dropna(inplace=True)\n",
    "df[\"Date\"] = pd.to_datetime(df[\"Date\"])\n",
    "df.head(n=10)"
   ]
  },
  {
   "cell_type": "markdown",
   "metadata": {},
   "source": [
    "As one can see, the stock price trends upwards for the first few thousand days. Then goes down at around $n=3300$ before climbing again after around $n = 4900$. "
   ]
  },
  {
   "cell_type": "code",
   "execution_count": 12,
   "metadata": {
    "pycharm": {
     "name": "#%%\n"
    }
   },
   "outputs": [
    {
     "data": {
      "text/plain": [
       "<AxesSubplot:xlabel='Date', ylabel='Close'>"
      ]
     },
     "execution_count": 12,
     "metadata": {},
     "output_type": "execute_result"
    },
    {
     "data": {
      "image/png": "[encoded data removed]",
      "text/plain": [
       "<Figure size 432x288 with 1 Axes>"
      ]
     },
     "metadata": {},
     "output_type": "display_data"
    }
   ],
   "source": [
    "fig, axs = plt.subplots()\n",
    "sns.lineplot(data=df, x=\"Date\", y=\"Close\", ax=axs)"
   ]
  },
  {
   "cell_type": "markdown",
   "metadata": {},
   "source": [
    "We pre-processed the dataset by removing undefined values, namely, weekends and public holidays. The remaining values were normalized to be in a range of $[0 1]$."
   ]
  },
  {
   "cell_type": "code",
   "execution_count": 14,
   "metadata": {
    "pycharm": {
     "name": "#%%\n"
    }
   },
   "outputs": [],
   "source": [
    "scaler = MinMaxScaler()\n",
    "X = scaler.fit_transform(X=df[[\"Close\"]])"
   ]
  },
  {
   "cell_type": "markdown",
   "metadata": {},
   "source": [
    "Define Train/Test lengths:\n",
    "\n",
    "The first 3000 values were used to train the ESN and to optimize the hyper-parameters and the rest for testing. "
   ]
  },
  {
   "cell_type": "code",
   "execution_count": 15,
   "metadata": {
    "pycharm": {
     "name": "#%%\n"
    }
   },
   "outputs": [],
   "source": [
    "train_len = 3000\n",
    "future_len = 1\n",
    "future_total = len(X) - train_len"
   ]
  },
  {
   "cell_type": "markdown",
   "metadata": {},
   "source": [
    "Echo State Network preparation"
   ]
  },
  {
   "cell_type": "code",
   "execution_count": 18,
   "metadata": {
    "pycharm": {
     "name": "#%%\n"
    }
   },
   "outputs": [],
   "source": [
    "base_input_to_nodes = InputToNode(hidden_layer_size=100, input_activation='identity',\n",
    "                                  k_in=1, input_scaling=0.6, bias_scaling=0.0)\n",
    "base_nodes_to_nodes = NodeToNode(hidden_layer_size=100, spectral_radius=0.9, leakage=1.0, k_rec=10)\n",
    "\n",
    "esn = ESNRegressor(input_to_node=base_input_to_nodes,\n",
    "                   node_to_node=base_nodes_to_nodes,\n",
    "                   regressor=IncrementalRegression(alpha=1e-8), random_state=10)"
   ]
  },
  {
   "cell_type": "markdown",
   "metadata": {},
   "source": [
    "Training and Prediction."
   ]
  },
  {
   "cell_type": "code",
   "execution_count": 19,
   "metadata": {
    "pycharm": {
     "name": "#%%\n"
    }
   },
   "outputs": [],
   "source": [
    "X_train = X[0:train_len, :]\n",
    "y_train = X[0+1:train_len+1, :]\n",
    "X_test = X[0:train_len+future_total - future_len, :]\n",
    "y_test = X[future_len:train_len+future_total, :]\n",
    "\n",
    "esn.fit(X=X_train, y=y_train.ravel())\n",
    "y_train_pred = esn.predict(X=X_train)\n",
    "y_test_pred = esn.predict(X=X_test)"
   ]
  },
  {
   "cell_type": "markdown",
   "metadata": {
    "pycharm": {
     "name": "#%% md\n"
    }
   },
   "source": [
    "We see that the ESN even captures the downward trend in the test set, although it has not seen any longer downward movement during the training."
   ]
  },
  {
   "cell_type": "code",
   "execution_count": 21,
   "metadata": {
    "pycharm": {
     "name": "#%%\n"
    }
   },
   "outputs": [
    {
     "data": {
      "text/plain": [
       "<matplotlib.legend.Legend at 0x16731f64640>"
      ]
     },
     "execution_count": 21,
     "metadata": {},
     "output_type": "execute_result"
    },
    {
     "data": {
      "image/png": "[encoded data removed]",
      "text/plain": [
       "<Figure size 432x288 with 1 Axes>"
      ]
     },
     "metadata": {},
     "output_type": "display_data"
    }
   ],
   "source": [
    "prices_pred = np.empty_like(X)\n",
    "prices_pred[:] = np.nan\n",
    "prices_pred[train_len + future_len:, 0] = y_test_pred[train_len:]\n",
    "\n",
    "plt.figure()\n",
    "plt.plot(scaler.inverse_transform(y_test), label='Target')\n",
    "plt.plot(scaler.inverse_transform(prices_pred), label='Predicted')\n",
    "plt.xlabel(\"Timestamp\")\n",
    "plt.ylabel(\"Price\")\n",
    "plt.legend()"
   ]
  },
  {
   "cell_type": "markdown",
   "metadata": {},
   "source": [
    "Disclaimer: We are signal processing experts, not financial advisors. Do not use any of the models presented herein to steer your investments."
   ]
  }
 ],
 "metadata": {
  "kernelspec": {
   "display_name": "Python 3 (ipykernel)",
   "language": "python",
   "name": "python3"
  },
  "language_info": {
   "codemirror_mode": {
    "name": "ipython",
    "version": 3
   },
   "file_extension": ".py",
   "mimetype": "text/x-python",
   "name": "python",
   "nbconvert_exporter": "python",
   "pygments_lexer": "ipython3",
   "version": "3.10.4"
  }
 },
 "nbformat": 4,
 "nbformat_minor": 1
}
