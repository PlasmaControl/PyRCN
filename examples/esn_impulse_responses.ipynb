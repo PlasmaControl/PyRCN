{
 "cells": [
  {
   "cell_type": "markdown",
   "metadata": {},
   "source": [
    "# Visualizing impulse responses of Echo State Networks\n",
    "\n",
    "## Introduction\n",
    "\n",
    "In this notebook, the impact of different hyper-parameters of an ESN are explained. The notebook depends on just a small variety of packages: numpy, matplotlib, IPython and pyrcn."
   ]
  },
  {
   "cell_type": "code",
   "execution_count": 1,
   "metadata": {
    "pycharm": {
     "name": "#%%\n"
    }
   },
   "outputs": [],
   "source": [
    "import os, sys\n",
    "cwd = os.getcwd()\n",
    "module_path = os.path.dirname(cwd)  # target working directory\n",
    "\n",
    "sys.path = [item for item in sys.path if item != module_path]  # remove module_path from sys.path\n",
    "sys.path.append(module_path)  # add module_path to sys.path\n",
    "\n",
    "import numpy as np\n",
    "from collections.abc import Iterable\n",
    "\n",
    "%matplotlib inline\n",
    "import matplotlib.pyplot as plt\n",
    "from ipywidgets import interact\n",
    "import ipywidgets as widgets\n",
    "import seaborn as sns\n",
    "\n",
    "sns.set_theme()\n",
    "\n",
    "from pyrcn.echo_state_network import ESNRegressor"
   ]
  },
  {
   "cell_type": "code",
   "execution_count": 2,
   "metadata": {},
   "outputs": [],
   "source": [
    "def build_visualization_widget(estimator, params, X, y):\n",
    "    def visualize(estimator, constant_params, X, y, **interactive_params):\n",
    "        params = constant_params.copy()\n",
    "        params.update(interactive_params)\n",
    "        estimator.set_params(**params).fit(X, y)\n",
    "        sns.heatmap(data=estimator.hidden_layer_state.T)\n",
    "        plt.xlabel(\"Time Step\")\n",
    "        plt.ylabel(\"Neuron Index\")\n",
    "    \n",
    "    constant_params = dict()\n",
    "    interactive_params = dict()\n",
    "    for key, value in zip(params.keys(), params.values()):\n",
    "        if isinstance(value, Iterable) and not isinstance(value, str):\n",
    "            interactive_params[key] = value\n",
    "        else:\n",
    "            constant_params[key] = value\n",
    "    interact(lambda **interactive_params: visualize(ESNRegressor(), constant_params, X, y, **interactive_params), **interactive_params)"
   ]
  },
  {
   "cell_type": "markdown",
   "metadata": {},
   "source": [
    "In this notebook, we feed an example impulse through the ESN, treating it as a non-linear filter. The unit impuls starts at n=5."
   ]
  },
  {
   "cell_type": "code",
   "execution_count": 3,
   "metadata": {
    "pycharm": {
     "name": "#%%\n"
    }
   },
   "outputs": [
    {
     "data": {
      "text/plain": [
       "Text(0, 0.5, 'X[n]')"
      ]
     },
     "execution_count": 3,
     "metadata": {},
     "output_type": "execute_result"
    },
    {
     "data": {
      "image/png": "[encoded data removed]",
      "text/plain": [
       "<Figure size 432x288 with 1 Axes>"
      ]
     },
     "metadata": {},
     "output_type": "display_data"
    }
   ],
   "source": [
    "X = np.zeros(shape=(100, ), dtype=int)\n",
    "X[5] = 1\n",
    "\n",
    "fix, axs = plt.subplots()\n",
    "sns.lineplot(x=range(100), y=X, ax=axs)\n",
    "axs.set_xlim([0, 100])\n",
    "axs.set_ylim([0, 1])\n",
    "axs.set_xlabel('n')\n",
    "axs.set_ylabel('X[n]')"
   ]
  },
  {
   "cell_type": "markdown",
   "metadata": {
    "pycharm": {
     "name": "#%% md\n"
    }
   },
   "source": [
    "At first, show the impact of different input scaling factors.\n",
    "\n",
    "Therefore, we neutralize the other hyper-parameters, i.e., no recurrent connections ($\\rho = 0$), no bias ($\\alpha_{\\mathrm{b}} = 0$) and no leakage ($\\lambda = 1$). \n",
    "\n",
    "Visualizing this, we can see exactly what we might expect. We have chosen an input scaling factor of 0.1. Thus, the reservoir state is non-zero for exactly one sample. We can see that all reservoir states are zero all the times except for $n=5$, when the impulse is fed into the ESN. \n",
    "\n",
    "The absolute values of the reservoir states lie between 0 and 0.1.\n",
    "\n",
    "If we increase the input scaling factor, each reservoir state still has only one non-zero value at $n=5$ as before, just with higher activations up to 0.8. The $\\tanh$ non-linearity is damping the reservoir states so that they cannot reach 1.  "
   ]
  },
  {
   "cell_type": "code",
   "execution_count": 4,
   "metadata": {},
   "outputs": [
    {
     "data": {
      "application/vnd.jupyter.widget-view+json": {
       "model_id": "f87fe7e56d06448da06ff72b68b4d952",
       "version_major": 2,
       "version_minor": 0
      },
      "text/plain": [
       "interactive(children=(FloatSlider(value=0.5, description='input_scaling', max=1.0, min=0.1), Output()), _dom_c…"
      ]
     },
     "metadata": {},
     "output_type": "display_data"
    }
   ],
   "source": [
    "params = {'hidden_layer_size': 50,\n",
    "          'input_activation': 'identity',\n",
    "          'input_scaling': (0.1, 1.0, 0.1),\n",
    "          'bias_scaling':  0.0,\n",
    "          'spectral_radius': 0.0,\n",
    "          'leakage': 1.0,\n",
    "          'k_rec': 10,\n",
    "          'reservoir_activation': 'tanh',\n",
    "          'bi_directional': False,\n",
    "          'random_state': 42}\n",
    "build_visualization_widget(estimator=ESNRegressor(), params=params, X=X.reshape(-1, 1), y=X)"
   ]
  },
  {
   "cell_type": "markdown",
   "metadata": {},
   "source": [
    "Let's keep the input scaling factor fixed to 1.0 for the next experiments. Echo State Networks have two ways to\n",
    "incorporate past information.\n",
    "\n",
    "Next, let us analyze the spectral radius. Therefore, we set it to 0.3 in the following example.\n",
    "\n",
    "We can observe that the impulse responses are starting at n=5 and decaying until reaching zero after a short time. Obviously, the reservoir states are decaying rather fast, because the recurrent connections are small compared to the input scaling. \n",
    "\n",
    "If we increase the spectral radius close to 1.0, the values are still bounded between [0.8, 0.8], but the reservoir states are active over a longer time now.\n",
    "\n",
    "If we further increase the spectral radius, we can see that the reservoir states are decaying very slowly, and they are oscillating with a resonance frequency. For many tasks, it is indeed necessary to preserve the echo state property of reservoir and keep 𝜌<1. However in some cases, such as time-series prediction, the spectral radius can be larger than 1. "
   ]
  },
  {
   "cell_type": "code",
   "execution_count": 5,
   "metadata": {
    "pycharm": {
     "name": "#%%\n"
    }
   },
   "outputs": [
    {
     "data": {
      "application/vnd.jupyter.widget-view+json": {
       "model_id": "a8652cc32c274dd287a2bb7b8b962b75",
       "version_major": 2,
       "version_minor": 0
      },
      "text/plain": [
       "interactive(children=(FloatSlider(value=1.0, description='spectral_radius', max=2.0), Output()), _dom_classes=…"
      ]
     },
     "metadata": {},
     "output_type": "display_data"
    }
   ],
   "source": [
    "params = {'hidden_layer_size': 50,\n",
    "          'input_activation': 'identity',\n",
    "          'input_scaling': 1.0,\n",
    "          'bias_scaling':  0.0,\n",
    "          'spectral_radius': (0.0, 2.0, 0.1),\n",
    "          'leakage': 1.0,\n",
    "          'k_rec': 10,\n",
    "          'reservoir_activation': 'tanh',\n",
    "          'bi_directional': False,\n",
    "          'random_state': 42}\n",
    "build_visualization_widget(estimator=ESNRegressor(), params=params, X=X.reshape(-1, 1), y=X)"
   ]
  },
  {
   "cell_type": "markdown",
   "metadata": {},
   "source": [
    "For some use cases, the reservoir should behave more non-linear. Therefore, we can play around with the bias. Here, we\n",
    "will show the impact of the bias scaling factor just for one example and increase it to 0.2.\n",
    "\n",
    "The spectral radius is decreased to 0.9 in order to fulfil the Echo State Property.\n",
    "\n",
    "Two impacts of the bias scaling can be mainly observed: (1) The absolute value of the stable states of the reservoir neurons is approximately distributed from 0 to 0.2 and each neuron has its own stable state. When new information from the input is passed to the reservoir neurons, this is the excitation point. (2) Before the impulse arrives in the reservoir (𝑛=5), the states are approaching their stable state. Due to the spectral radius, each reservoir neuron is connected to other neurons and thus feeds the constant bias through the network, until each neuron has reached its final state."
   ]
  },
  {
   "cell_type": "code",
   "execution_count": 6,
   "metadata": {
    "pycharm": {
     "name": "#%%\n"
    }
   },
   "outputs": [
    {
     "data": {
      "application/vnd.jupyter.widget-view+json": {
       "model_id": "2532a047269743da8f6f6ceb800578e7",
       "version_major": 2,
       "version_minor": 0
      },
      "text/plain": [
       "interactive(children=(FloatSlider(value=1.0, description='bias_scaling', max=2.0), Output()), _dom_classes=('w…"
      ]
     },
     "metadata": {},
     "output_type": "display_data"
    }
   ],
   "source": [
    "params = {'hidden_layer_size': 50,\n",
    "          'input_activation': 'identity',\n",
    "          'input_scaling': 1.0,\n",
    "          'bias_scaling':  (0.0, 2.0, 0.1),\n",
    "          'spectral_radius': 0.9,\n",
    "          'leakage': 1.0,\n",
    "          'k_rec': 10,\n",
    "          'reservoir_activation': 'tanh',\n",
    "          'bi_directional': False,\n",
    "          'random_state': 42}\n",
    "build_visualization_widget(estimator=ESNRegressor(), params=params, X=X.reshape(-1, 1), y=X)"
   ]
  },
  {
   "cell_type": "markdown",
   "metadata": {},
   "source": [
    "Finally, let us observe the impact of the leakage. Leaky integration is the other way to incorporate past information\n",
    "into the reservoir. This works by keeping the previous reservoir states over a longer time.\n",
    "\n",
    "The leakage behaves in the same way for all nodes in the reservoir and acts like a low-pass filter. The magnitude is strongly damped, and all reservoir states are decaying exponentially over a longer time. Due to the spectral radius, all neurons have individual decaying times."
   ]
  },
  {
   "cell_type": "code",
   "execution_count": 7,
   "metadata": {
    "pycharm": {
     "name": "#%%\n"
    }
   },
   "outputs": [
    {
     "data": {
      "application/vnd.jupyter.widget-view+json": {
       "model_id": "9f2896647a4c4032b100d0721c505f43",
       "version_major": 2,
       "version_minor": 0
      },
      "text/plain": [
       "interactive(children=(FloatSlider(value=0.5, description='leakage', max=1.0, min=0.1), Output()), _dom_classes…"
      ]
     },
     "metadata": {},
     "output_type": "display_data"
    }
   ],
   "source": [
    "params = {'hidden_layer_size': 50,\n",
    "          'input_activation': 'identity',\n",
    "          'input_scaling': 1.0,\n",
    "          'bias_scaling':  0.0,\n",
    "          'spectral_radius': 0.9,\n",
    "          'leakage': (0.1, 1.0, 0.1),\n",
    "          'k_rec': 10,\n",
    "          'reservoir_activation': 'tanh',\n",
    "          'bi_directional': False,\n",
    "          'random_state': 42}\n",
    "build_visualization_widget(estimator=ESNRegressor(), params=params, X=X.reshape(-1, 1), y=X)"
   ]
  },
  {
   "cell_type": "markdown",
   "metadata": {},
   "source": [
    "If we would like to incorporate future information into the reservoir, we can pass our input samples for- and backward\n",
    "through the reservoir. Therefore, we set bidirectional to True.\n",
    "\n",
    "We can see the clear effect of usind bidirectional ESNs:\n",
    "\n",
    "Because of the additional backward-pass, the number of reservoir states is doubled, and we can see that they decay in both, forward and backward direction. This is especially useful for some classification tasks."
   ]
  },
  {
   "cell_type": "code",
   "execution_count": 8,
   "metadata": {
    "pycharm": {
     "name": "#%%\n"
    }
   },
   "outputs": [
    {
     "data": {
      "application/vnd.jupyter.widget-view+json": {
       "model_id": "4a843858c781463c9edf57b22209855a",
       "version_major": 2,
       "version_minor": 0
      },
      "text/plain": [
       "interactive(children=(Dropdown(description='bi_directional', options=(False, True), value=False), Output()), _…"
      ]
     },
     "metadata": {},
     "output_type": "display_data"
    }
   ],
   "source": [
    "params = {'hidden_layer_size': 50,\n",
    "          'input_activation': 'identity',\n",
    "          'input_scaling': 1.0,\n",
    "          'bias_scaling':  0.0,\n",
    "          'spectral_radius': 0.9,\n",
    "          'leakage': 1.0,\n",
    "          'k_rec': 10,\n",
    "          'reservoir_activation': 'tanh',\n",
    "          'bi_directional': [False, True],\n",
    "          'random_state': 42}\n",
    "build_visualization_widget(estimator=ESNRegressor(), params=params, X=X.reshape(-1, 1), y=X)"
   ]
  },
  {
   "cell_type": "markdown",
   "metadata": {},
   "source": [
    "Try to play around with all these hyper-parameters!"
   ]
  },
  {
   "cell_type": "code",
   "execution_count": 9,
   "metadata": {},
   "outputs": [
    {
     "data": {
      "application/vnd.jupyter.widget-view+json": {
       "model_id": "26475facbb2b439c85f78669766f857f",
       "version_major": 2,
       "version_minor": 0
      },
      "text/plain": [
       "interactive(children=(FloatSlider(value=0.5, description='input_scaling', max=1.0, min=0.1), FloatSlider(value…"
      ]
     },
     "metadata": {},
     "output_type": "display_data"
    }
   ],
   "source": [
    "params = {'hidden_layer_size': 50,\n",
    "          'input_activation': 'identity',\n",
    "          'input_scaling': (0.1, 1.0, 0.1),\n",
    "          'bias_scaling':  (0.0, 0.5, 0.1),\n",
    "          'spectral_radius': (0.0, 1.5, 0.1),\n",
    "          'leakage': (0.1, 1.0, 0.1),\n",
    "          'k_rec': 10,\n",
    "          'reservoir_activation': 'tanh',\n",
    "          'bi_directional': [False, True],\n",
    "          'random_state': 42}\n",
    "build_visualization_widget(estimator=ESNRegressor(), params=params, X=X.reshape(-1, 1), y=X)"
   ]
  },
  {
   "cell_type": "code",
   "execution_count": null,
   "metadata": {},
   "outputs": [],
   "source": []
  }
 ],
 "metadata": {
  "kernelspec": {
   "display_name": "Python 3 (ipykernel)",
   "language": "python",
   "name": "python3"
  },
  "language_info": {
   "codemirror_mode": {
    "name": "ipython",
    "version": 3
   },
   "file_extension": ".py",
   "mimetype": "text/x-python",
   "name": "python",
   "nbconvert_exporter": "python",
   "pygments_lexer": "ipython3",
   "version": "3.8.6"
  }
 },
 "nbformat": 4,
 "nbformat_minor": 4
}
