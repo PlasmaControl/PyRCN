{
 "cells": [
  {
   "cell_type": "markdown",
   "metadata": {},
   "source": [
    "# Visualizing impulse responses of Echo State Networks\n",
    "\n",
    "## Introduction\n",
    "\n",
    "In this notebook, the impact of different hyper-parameters of an ESN are explained. The notebook depends on just a small variety of packages: numpy, matplotlib, IPython and pyrcn."
   ]
  },
  {
   "cell_type": "code",
   "execution_count": null,
   "metadata": {
    "pycharm": {
     "name": "#%%\n"
    }
   },
   "outputs": [],
   "source": [
    "import numpy as np\n",
    "from collections.abc import Iterable\n",
    "\n",
    "%matplotlib notebook\n",
    "import matplotlib.pyplot as plt\n",
    "from mpl_toolkits.axes_grid1 import make_axes_locatable\n",
    "from ipywidgets import interact\n",
    "import ipywidgets as widgets\n",
    "import seaborn as sns\n",
    "\n",
    "sns.set_theme()\n",
    "\n",
    "from pyrcn.echo_state_network import ESNRegressor"
   ]
  },
  {
   "cell_type": "code",
   "execution_count": null,
   "metadata": {},
   "outputs": [],
   "source": [
    "def build_visualization_widget(estimator, params, X, y):\n",
    "    def visualize(func, estimator, constant_params, X, y, axs, **interactive_params):\n",
    "        params = constant_params.copy()\n",
    "        params.update(interactive_params)\n",
    "        func(estimator, params, X, y, axs)\n",
    "    _, axs = plt.subplots()\n",
    "    constant_params = dict()\n",
    "    interactive_params = dict()\n",
    "    for key, value in zip(params.keys(), params.values()):\n",
    "        if isinstance(value, Iterable) and not isinstance(value, str):\n",
    "            interactive_params[key] = value\n",
    "        else:\n",
    "            constant_params[key] = value\n",
    "    interact(lambda **interactive_params: visualize(my_custom_plot, ESNRegressor(), constant_params, X, y, axs, **interactive_params), **interactive_params)"
   ]
  },
  {
   "cell_type": "markdown",
   "metadata": {},
   "source": [
    "In this notebook, we feed an example impulse through the ESN, treating it as a non-linear filter. The unit impuls starts at n=5."
   ]
  },
  {
   "cell_type": "code",
   "execution_count": null,
   "metadata": {
    "pycharm": {
     "name": "#%%\n"
    }
   },
   "outputs": [],
   "source": [
    "X = np.zeros(shape=(100, ), dtype=int)\n",
    "X[5] = 1\n",
    "\n",
    "fix, axs = plt.subplots()\n",
    "sns.lineplot(x=range(100), y=X, ax=axs)\n",
    "axs.set_xlim([0, 100])\n",
    "axs.set_ylim([0, 1])\n",
    "axs.set_xlabel('n')\n",
    "axs.set_ylabel('X[n]')"
   ]
  },
  {
   "cell_type": "markdown",
   "metadata": {},
   "source": [
    "In this notebook, we record the hidden_layer_state in each time step"
   ]
  },
  {
   "cell_type": "code",
   "execution_count": null,
   "metadata": {},
   "outputs": [],
   "source": [
    "def my_custom_plot(estimator, params, X, y, axs):\n",
    "    estimator.set_params(**params)\n",
    "    estimator.fit(X, y)\n",
    "    if axs.images:\n",
    "        axs.images[-1].colorbar.remove()\n",
    "    axs.clear()\n",
    "    im=axs.imshow(estimator.hidden_layer_state.T)\n",
    "    axs.set_xlabel(\"Time Step\")\n",
    "    axs.set_ylabel(\"Neuron Index\")\n",
    "    divider = make_axes_locatable(axs)\n",
    "    cax = divider.append_axes(\"right\", size=\"5%\", pad=0.05)\n",
    "    plt.colorbar(mappable=im, cax=cax)"
   ]
  },
  {
   "cell_type": "markdown",
   "metadata": {
    "pycharm": {
     "name": "#%% md\n"
    }
   },
   "source": [
    "At first, show the impact of different input scaling factors.\n",
    "\n",
    "Therefore, we neutralize the other hyper-parameters, i.e., no recurrent connections ($\\rho = 0$), no bias ($\\alpha_{\\mathrm{b}} = 0$) and no leakage ($\\lambda = 1$). \n",
    "\n",
    "Visualizing this, we can see exactly what we might expect. We have chosen an input scaling factor of 0.1. Thus, the reservoir state is non-zero for exactly one sample. We can see that all reservoir states are zero all the times except for $n=5$, when the impulse is fed into the ESN. \n",
    "\n",
    "The absolute values of the reservoir states lie between 0 and 0.1.\n",
    "\n",
    "If we increase the input scaling factor, each reservoir state still has only one non-zero value at $n=5$ as before, just with higher activations up to 0.8. The $\\tanh$ non-linearity is damping the reservoir states so that they cannot reach 1.  "
   ]
  },
  {
   "cell_type": "code",
   "execution_count": null,
   "metadata": {},
   "outputs": [],
   "source": [
    "params = {'hidden_layer_size': 50,\n",
    "          'input_activation': 'identity',\n",
    "          'input_scaling': (0.1, 1.0, 0.1),\n",
    "          'bias_scaling':  0.0,\n",
    "          'spectral_radius': 0.0,\n",
    "          'leakage': 1.0,\n",
    "          'k_rec': 10,\n",
    "          'reservoir_activation': 'tanh',\n",
    "          'bi_directional': False,\n",
    "          'random_state': 42}\n",
    "build_visualization_widget(estimator=ESNRegressor(), params=params, X=X.reshape(-1, 1), y=X)"
   ]
  },
  {
   "cell_type": "markdown",
   "metadata": {},
   "source": [
    "Let's keep the input scaling factor fixed to 1.0 for the next experiments. Echo State Networks have two ways to\n",
    "incorporate past information.\n",
    "\n",
    "Next, let us analyze the spectral radius. Therefore, we set it to 0.3 in the following example.\n",
    "\n",
    "We can observe that the impulse responses are starting at n=5 and decaying until reaching zero after a short time. Obviously, the reservoir states are decaying rather fast, because the recurrent connections are small compared to the input scaling. \n",
    "\n",
    "If we increase the spectral radius close to 1.0, the values are still bounded between [0.8, 0.8], but the reservoir states are active over a longer time now.\n",
    "\n",
    "If we further increase the spectral radius, we can see that the reservoir states are decaying very slowly, and they are oscillating with a resonance frequency. For many tasks, it is indeed necessary to preserve the echo state property of reservoir and keep 𝜌<1. However in some cases, such as time-series prediction, the spectral radius can be larger than 1. "
   ]
  },
  {
   "cell_type": "code",
   "execution_count": null,
   "metadata": {
    "pycharm": {
     "name": "#%%\n"
    }
   },
   "outputs": [],
   "source": [
    "params = {'hidden_layer_size': 50,\n",
    "          'input_activation': 'identity',\n",
    "          'input_scaling': 1.0,\n",
    "          'bias_scaling':  0.0,\n",
    "          'spectral_radius': (0.0, 2.0, 0.1),\n",
    "          'leakage': 1.0,\n",
    "          'k_rec': 10,\n",
    "          'reservoir_activation': 'tanh',\n",
    "          'bi_directional': False,\n",
    "          'random_state': 42}\n",
    "build_visualization_widget(estimator=ESNRegressor(), params=params, X=X.reshape(-1, 1), y=X)"
   ]
  },
  {
   "cell_type": "markdown",
   "metadata": {},
   "source": [
    "For some use cases, the reservoir should behave more non-linear. Therefore, we can play around with the bias. Here, we\n",
    "will show the impact of the bias scaling factor just for one example and increase it to 0.2.\n",
    "\n",
    "The spectral radius is decreased to 0.9 in order to fulfil the Echo State Property.\n",
    "\n",
    "Two impacts of the bias scaling can be mainly observed: (1) The absolute value of the stable states of the reservoir neurons is approximately distributed from 0 to 0.2 and each neuron has its own stable state. When new information from the input is passed to the reservoir neurons, this is the excitation point. (2) Before the impulse arrives in the reservoir (𝑛=5), the states are approaching their stable state. Due to the spectral radius, each reservoir neuron is connected to other neurons and thus feeds the constant bias through the network, until each neuron has reached its final state."
   ]
  },
  {
   "cell_type": "code",
   "execution_count": null,
   "metadata": {
    "pycharm": {
     "name": "#%%\n"
    }
   },
   "outputs": [],
   "source": [
    "params = {'hidden_layer_size': 50,\n",
    "          'input_activation': 'identity',\n",
    "          'input_scaling': 1.0,\n",
    "          'bias_scaling':  (0.0, 2.0, 0.1),\n",
    "          'spectral_radius': 0.9,\n",
    "          'leakage': 1.0,\n",
    "          'k_rec': 10,\n",
    "          'reservoir_activation': 'tanh',\n",
    "          'bi_directional': False,\n",
    "          'random_state': 42}\n",
    "build_visualization_widget(estimator=ESNRegressor(), params=params, X=X.reshape(-1, 1), y=X)"
   ]
  },
  {
   "cell_type": "markdown",
   "metadata": {},
   "source": [
    "Finally, let us observe the impact of the leakage. Leaky integration is the other way to incorporate past information\n",
    "into the reservoir. This works by keeping the previous reservoir states over a longer time.\n",
    "\n",
    "The leakage behaves in the same way for all nodes in the reservoir and acts like a low-pass filter. The magnitude is strongly damped, and all reservoir states are decaying exponentially over a longer time. Due to the spectral radius, all neurons have individual decaying times."
   ]
  },
  {
   "cell_type": "code",
   "execution_count": null,
   "metadata": {
    "pycharm": {
     "name": "#%%\n"
    }
   },
   "outputs": [],
   "source": [
    "params = {'hidden_layer_size': 50,\n",
    "          'input_activation': 'identity',\n",
    "          'input_scaling': 1.0,\n",
    "          'bias_scaling':  0.0,\n",
    "          'spectral_radius': 0.9,\n",
    "          'leakage': (0.1, 1.0, 0.1),\n",
    "          'k_rec': 10,\n",
    "          'reservoir_activation': 'tanh',\n",
    "          'bi_directional': False,\n",
    "          'random_state': 42}\n",
    "build_visualization_widget(estimator=ESNRegressor(), params=params, X=X.reshape(-1, 1), y=X)"
   ]
  },
  {
   "cell_type": "markdown",
   "metadata": {},
   "source": [
    "If we would like to incorporate future information into the reservoir, we can pass our input samples for- and backward\n",
    "through the reservoir. Therefore, we set bidirectional to True.\n",
    "\n",
    "We can see the clear effect of usind bidirectional ESNs:\n",
    "\n",
    "Because of the additional backward-pass, the number of reservoir states is doubled, and we can see that they decay in both, forward and backward direction. This is especially useful for some classification tasks."
   ]
  },
  {
   "cell_type": "code",
   "execution_count": null,
   "metadata": {
    "pycharm": {
     "name": "#%%\n"
    }
   },
   "outputs": [],
   "source": [
    "params = {'hidden_layer_size': 50,\n",
    "          'input_activation': 'identity',\n",
    "          'input_scaling': 1.0,\n",
    "          'bias_scaling':  0.0,\n",
    "          'spectral_radius': 0.9,\n",
    "          'leakage': 1.0,\n",
    "          'k_rec': 10,\n",
    "          'reservoir_activation': 'tanh',\n",
    "          'bi_directional': [False, True],\n",
    "          'random_state': 42}\n",
    "build_visualization_widget(estimator=ESNRegressor(), params=params, X=X.reshape(-1, 1), y=X)"
   ]
  },
  {
   "cell_type": "markdown",
   "metadata": {},
   "source": [
    "Try to play around with all these hyper-parameters!"
   ]
  },
  {
   "cell_type": "code",
   "execution_count": null,
   "metadata": {},
   "outputs": [],
   "source": [
    "params = {'hidden_layer_size': 50,\n",
    "          'input_activation': 'identity',\n",
    "          'input_scaling': (0.1, 1.0, 0.1),\n",
    "          'bias_scaling':  (0.0, 0.5, 0.1),\n",
    "          'spectral_radius': (0.0, 1.5, 0.1),\n",
    "          'leakage': (0.1, 1.0, 0.1),\n",
    "          'k_rec': 10,\n",
    "          'reservoir_activation': 'tanh',\n",
    "          'bi_directional': [False, True],\n",
    "          'random_state': 42}\n",
    "build_visualization_widget(estimator=ESNRegressor(), params=params, X=X.reshape(-1, 1), y=X)"
   ]
  },
  {
   "cell_type": "code",
   "execution_count": null,
   "metadata": {},
   "outputs": [],
   "source": []
  }
 ],
 "metadata": {
  "kernelspec": {
   "display_name": "Python 3 (ipykernel)",
   "language": "python",
   "name": "python3"
  },
  "language_info": {
   "codemirror_mode": {
    "name": "ipython",
    "version": 3
   },
   "file_extension": ".py",
   "mimetype": "text/x-python",
   "name": "python",
   "nbconvert_exporter": "python",
   "pygments_lexer": "ipython3",
   "version": "3.8.6"
  }
 },
 "nbformat": 4,
 "nbformat_minor": 4
}
