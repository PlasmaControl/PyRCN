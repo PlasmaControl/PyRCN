{
 "cells": [
  {
   "cell_type": "markdown",
   "metadata": {
    "collapsed": true,
    "pycharm": {
     "name": "#%% md\n"
    }
   },
   "source": [
    "# Timeseries prediction of the Mackey-Glass Equation with ESNs \n",
    "\n",
    "## Introduction\n",
    "\n",
    "The Mackey-Glass system is essentially the differential equation, where we set the parameters to $\\alpha = 0.2$, $\\beta = 10$, $\\gamma = 0.1$ and the time delay $\\tau = 17$ in  order to have a mildly chaotic attractor. \n",
    "\n",
    "\\begin{align}\n",
    "\\label{eq:MackeyGlass}\n",
    "\\dot{y}(t) = \\alpha y(t-\\tau) / (1 + y(t - \\tau)^{\\beta}) - \\gamma y(t)\n",
    "\\end{align}"
   ]
  },
  {
   "cell_type": "code",
   "execution_count": null,
   "metadata": {
    "pycharm": {
     "name": "#%%\n"
    }
   },
   "outputs": [],
   "source": [
    "import numpy as np\n",
    "from sklearn.linear_model import Ridge\n",
    "from sklearn.metrics import mean_squared_error, make_scorer\n",
    "from sklearn.preprocessing import MinMaxScaler\n",
    "from sklearn.model_selection import TimeSeriesSplit, GridSearchCV\n",
    "\n",
    "from matplotlib import pyplot as plt\n",
    "plt.rcParams[\"font.family\"] = \"Times New Roman\"\n",
    "plt.rcParams[\"font.size\"] = 10\n",
    "\n",
    "from pyrcn.echo_state_network import ESNRegressor\n",
    "from pyrcn.extreme_learning_machine import ELMRegressor\n",
    "from pyrcn.linear_model import IncrementalRegression\n",
    "from pyrcn.model_selection import SequentialSearchCV\n",
    "from pyrcn.datasets import mackey_glass"
   ]
  },
  {
   "cell_type": "markdown",
   "metadata": {},
   "source": [
    "Load the dataset and rescale it to a range of [-1, 1]"
   ]
  },
  {
   "cell_type": "code",
   "execution_count": null,
   "metadata": {
    "pycharm": {
     "name": "#%%\n"
    }
   },
   "outputs": [],
   "source": [
    "# Load the dataset\n",
    "X, y = mackey_glass(n_timesteps=20000)\n",
    "scaler = MinMaxScaler(feature_range=(-1, 1)).fit(X=X)\n",
    "X = scaler.transform(X=X)\n",
    "y = scaler.transform(y)"
   ]
  },
  {
   "cell_type": "markdown",
   "metadata": {},
   "source": [
    "Define Train/Test lengths"
   ]
  },
  {
   "cell_type": "code",
   "execution_count": null,
   "metadata": {
    "pycharm": {
     "name": "#%%\n"
    }
   },
   "outputs": [],
   "source": [
    "trainLen = 1900 # number of time steps during which we train the network\n",
    "testLen = 2000 # number of time steps during which we test/run the network\n",
    "\n",
    "X_train = X[:trainLen]\n",
    "y_train = y[:trainLen]\n",
    "X_test = X[trainLen:trainLen+testLen]\n",
    "y_test = y[trainLen:trainLen+testLen]"
   ]
  },
  {
   "cell_type": "markdown",
   "metadata": {},
   "source": [
    "Visualization"
   ]
  },
  {
   "cell_type": "code",
   "execution_count": null,
   "metadata": {
    "pycharm": {
     "name": "#%%\n"
    }
   },
   "outputs": [],
   "source": [
    "fig = plt.figure()\n",
    "plt.plot(X_train, label=\"Training input\")\n",
    "plt.plot(y_train, label=\"Training target\")\n",
    "plt.xlabel(\"n\")\n",
    "plt.xlim([0, 200])\n",
    "plt.ylabel(\"u[n]\")\n",
    "plt.grid()\n",
    "plt.legend()\n",
    "fig.set_size_inches(4, 2.5)"
   ]
  },
  {
   "cell_type": "markdown",
   "metadata": {},
   "source": [
    "Training and Prediction using vanilla ESNs and ELMs"
   ]
  },
  {
   "cell_type": "code",
   "execution_count": null,
   "metadata": {
    "pycharm": {
     "name": "#%%\n"
    }
   },
   "outputs": [],
   "source": [
    "# initialize an ESNRegressor\n",
    "esn = ESNRegressor()  # IncrementalRegression()\n",
    "\n",
    "# initialize an ELMRegressor\n",
    "elm = ELMRegressor(regressor=Ridge())  # Ridge()\n",
    "\n",
    "# train a model\n",
    "esn.fit(X=X_train, y=y_train)\n",
    "elm.fit(X=X_train, y=y_train)\n",
    "\n",
    "# evaluate the models\n",
    "y_test_pred = esn.predict(X=X_test)\n",
    "print(mean_squared_error(y_test, y_test_pred))\n",
    "y_test_pred = elm.predict(X=X_test)\n",
    "print(mean_squared_error(y_test, y_test_pred))"
   ]
  },
  {
   "cell_type": "markdown",
   "metadata": {},
   "source": [
    "Hyperparameter optimization ESN"
   ]
  },
  {
   "cell_type": "code",
   "execution_count": null,
   "metadata": {
    "pycharm": {
     "name": "#%%\n"
    }
   },
   "outputs": [],
   "source": [
    "# Echo State Network sequential hyperparameter tuning\n",
    "initially_fixed_esn_params = {'hidden_layer_size': 100,\n",
    "                              'input_activation': 'identity',\n",
    "                              'bias_scaling': 0.0,\n",
    "                              'random_state': 42,\n",
    "                              'k_in': 1,\n",
    "                              'reservoir_activation': 'tanh',\n",
    "                              'leakage': 1.0,\n",
    "                              'bi_directional': False,\n",
    "                              'k_rec': 10,\n",
    "                              'wash_out': 0,\n",
    "                              'continuation': False,\n",
    "                              'alpha': 1e-5 }\n",
    "\n",
    "step1_esn_params = {'input_scaling': np.linspace(0.1, 5.0, 50),\n",
    "                    'spectral_radius': np.linspace(0.0, 1.5, 16)}\n",
    "step2_esn_params = {'leakage': np.linspace(0.1, 1.0, 10)}\n",
    "step3_esn_params = {'bias_scaling': np.linspace(0.0, 1.5, 16)}\n",
    "\n",
    "scorer = make_scorer(score_func=mean_squared_error, greater_is_better=False)\n",
    "\n",
    "kwargs = {'verbose': 5,\n",
    "          'scoring': scorer,\n",
    "          'n_jobs': -1,\n",
    "          'cv': TimeSeriesSplit()}\n",
    "\n",
    "esn = ESNRegressor(regressor=Ridge(), **initially_fixed_esn_params)\n",
    "\n",
    "searches = [('step1', GridSearchCV, step1_esn_params, kwargs),\n",
    "            ('step2', GridSearchCV, step2_esn_params, kwargs),\n",
    "            ('step3', GridSearchCV, step3_esn_params, kwargs)]\n",
    "\n",
    "\n",
    "sequential_search_esn = SequentialSearchCV(esn, searches=searches).fit(X_train, y_train)"
   ]
  },
  {
   "cell_type": "markdown",
   "metadata": {},
   "source": [
    "Hyperparameter optimization ELM"
   ]
  },
  {
   "cell_type": "code",
   "execution_count": null,
   "metadata": {
    "pycharm": {
     "name": "#%%\n"
    }
   },
   "outputs": [],
   "source": [
    "# Extreme Learning Machine sequential hyperparameter tuning\n",
    "initially_fixed_elm_params = {'hidden_layer_size': 100,\n",
    "                              'activation': 'tanh',\n",
    "                              'k_in': 1,\n",
    "                              'alpha': 1e-5,\n",
    "                              'random_state': 42 }\n",
    "\n",
    "step1_elm_params = {'input_scaling': np.linspace(0.1, 5.0, 50)}\n",
    "step2_elm_params = {'bias_scaling': np.linspace(0.0, 1.5, 16)}\n",
    "\n",
    "scorer = make_scorer(score_func=mean_squared_error, greater_is_better=False)\n",
    "\n",
    "kwargs = {'verbose': 5,\n",
    "          'scoring': scorer,\n",
    "          'n_jobs': -1,\n",
    "          'cv': TimeSeriesSplit()}\n",
    "\n",
    "elm = ELMRegressor(regressor=Ridge(), **initially_fixed_elm_params)\n",
    "\n",
    "searches = [('step1', GridSearchCV, step1_elm_params, kwargs),\n",
    "            ('step2', GridSearchCV, step2_elm_params, kwargs)]\n",
    "\n",
    "sequential_search_elm = SequentialSearchCV(elm, searches=searches).fit(X_train, y_train)"
   ]
  },
  {
   "cell_type": "markdown",
   "metadata": {},
   "source": [
    "Final prediction and visualization"
   ]
  },
  {
   "cell_type": "code",
   "execution_count": null,
   "metadata": {},
   "outputs": [],
   "source": [
    "sequential_search_esn.all_best_score_"
   ]
  },
  {
   "cell_type": "code",
   "execution_count": null,
   "metadata": {},
   "outputs": [],
   "source": [
    "sequential_search_elm.all_best_score_"
   ]
  },
  {
   "cell_type": "code",
   "execution_count": null,
   "metadata": {},
   "outputs": [],
   "source": [
    "esn = sequential_search_esn.best_estimator_\n",
    "elm = sequential_search_elm.best_estimator_\n",
    "\n",
    "y_train_pred_esn = esn.predict(X=X_train)\n",
    "y_train_pred_elm = elm.predict(X=X_train)\n",
    "y_test_pred_esn = esn.predict(X=X_test)\n",
    "y_test_pred_elm = elm.predict(X=X_test)\n",
    "\n",
    "test_err_esn = mean_squared_error(y_true=y_test, y_pred=y_test_pred_esn)\n",
    "test_err_elm = mean_squared_error(y_true=y_test, y_pred=y_test_pred_elm)\n",
    "\n",
    "print(\"Test MSE ESN:\\t{0}\".format(test_err_esn))\n",
    "print(\"Test MSE ELM:\\t{0}\".format(test_err_elm))\n",
    "\n",
    "# Prediction of the test set.\n",
    "fig = plt.figure()\n",
    "plt.plot(y_test_pred_esn, label=\"ESN prediction\", linewidth=1)\n",
    "plt.plot(y_test_pred_elm, label=\"ELM prediction\", linewidth=1)\n",
    "plt.plot(y_test, label=\"Test target\", linewidth=.5, color=\"black\")\n",
    "plt.xlabel(\"n\")\n",
    "plt.xlim([0, 100])\n",
    "plt.ylabel(\"u[n]\")\n",
    "plt.grid()\n",
    "plt.legend()\n",
    "fig.set_size_inches(4, 2.5)\n",
    "plt.savefig(\"test_data.pdf\")"
   ]
  },
  {
   "cell_type": "code",
   "execution_count": null,
   "metadata": {},
   "outputs": [],
   "source": [
    "fig = plt.figure()\n",
    "im = plt.imshow(np.abs(elm.hidden_layer_state[:100, 1:].T),vmin=0, vmax=1.0)\n",
    "plt.xlim([0, 100])\n",
    "plt.ylim([0, elm.hidden_layer_state.shape[1] - 1])\n",
    "plt.xlabel('n')\n",
    "plt.ylabel('R\\'[n]')\n",
    "plt.colorbar(im)\n",
    "plt.grid()\n",
    "fig.set_size_inches(2, 1.25)\n",
    "plt.savefig(\"elm_reservoir_state.pdf\", bbox_inches = 'tight', pad_inches = 0)"
   ]
  },
  {
   "cell_type": "code",
   "execution_count": null,
   "metadata": {},
   "outputs": [],
   "source": [
    "fig = plt.figure()\n",
    "im = plt.imshow(np.abs(esn.hidden_layer_state[:100, 1:].T),vmin=0, vmax=1.0)\n",
    "plt.xlim([0, 100])\n",
    "plt.ylim([0, esn.hidden_layer_state.shape[1] - 1])\n",
    "plt.xlabel('n')\n",
    "plt.ylabel('R[n]')\n",
    "plt.colorbar(im)\n",
    "plt.grid()\n",
    "fig.set_size_inches(2, 1.25)\n",
    "plt.savefig(\"esn_reservoir_state.pdf\", bbox_inches = 'tight', pad_inches = 0)"
   ]
  },
  {
   "cell_type": "code",
   "execution_count": null,
   "metadata": {},
   "outputs": [],
   "source": []
  }
 ],
 "metadata": {
  "kernelspec": {
   "display_name": "Python 3",
   "language": "python",
   "name": "python3"
  },
  "language_info": {
   "codemirror_mode": {
    "name": "ipython",
    "version": 3
   },
   "file_extension": ".py",
   "mimetype": "text/x-python",
   "name": "python",
   "nbconvert_exporter": "python",
   "pygments_lexer": "ipython3",
   "version": "3.7.5"
  }
 },
 "nbformat": 4,
 "nbformat_minor": 1
}
