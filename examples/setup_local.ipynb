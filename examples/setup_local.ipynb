{
 "cells": [
  {
   "cell_type": "markdown",
   "metadata": {},
   "source": [
    "# setup_local.py\n",
    "\n",
    "In this notebook, we will show how to use a virtual environment on ipython and jupyter notebooks and we will load a local directory library into our code.\n",
    "\n",
    "## Why use a virtual environment?\n",
    "\n",
    "Python is a very mighty programming language. The major strength of python are its partly user maintained, intuitively usable and vast libraries. Before you import them into your code, you have to install these libraries and their dependencies on your interpreter first. If you are using `pip` to install them to your interpreter, soon it will be clogged by loads of libraries and dependencies which demand to be maintained und kept up to date. Therefore and for many other reasons, we strictly recommend to use virtual environments with specified libraries bundeled with your project. There are mainly three steps:\n",
    "\n",
    " 1. Setup a virtual environment\n",
    " 2. Setup the new virtual environment for ipython and add the kernel\n",
    " 3. Start a jupyter notebook and select the custom kernel\n",
    "\n",
    "As there is already a [useful documentation](https://anbasile.github.io/posts/2017-06-25-jupyter-venv/) about how you might do this, we will skip to importing a local library.\n",
    "\n",
    "## Import local library\n",
    "\n",
    "For using local code with jupyter notebooks, you need to add the local directory to the include paths of python. First, we will have a look, what the current import path looks like."
   ]
  },
  {
   "cell_type": "code",
   "execution_count": null,
   "metadata": {},
   "outputs": [],
   "source": [
    "import os, sys\n",
    "\n",
    "print(sys.path)"
   ]
  },
  {
   "cell_type": "markdown",
   "metadata": {},
   "source": [
    "If we have set up the venv correctly, our venv path is now present in the `sys.path` variable. Now let's add our module path, which is one directory above the current working directory"
   ]
  },
  {
   "cell_type": "code",
   "execution_count": null,
   "metadata": {},
   "outputs": [],
   "source": [
    "cwd = os.getcwd()\n",
    "module_path = os.path.dirname(cwd)  # target working directory\n",
    "\n",
    "sys.path = [item for item in sys.path if item != module_path]  # remove module_path from sys.path\n",
    "sys.path.append(module_path)  # add module_path to sys.path\n",
    "\n",
    "print(sys.path)"
   ]
  },
  {
   "cell_type": "markdown",
   "metadata": {},
   "source": [
    "Now we have added the module path to the search paths for our environment and we can start importing our local module."
   ]
  },
  {
   "cell_type": "code",
   "execution_count": null,
   "metadata": {},
   "outputs": [],
   "source": [
    "from pyrcn.extreme_learning_machine import ELMClassifier"
   ]
  },
  {
   "cell_type": "markdown",
   "metadata": {},
   "source": [
    "Now it is time for a minimal working example."
   ]
  },
  {
   "cell_type": "code",
   "execution_count": null,
   "metadata": {},
   "outputs": [],
   "source": [
    "from sklearn.datasets import load_iris, load_digits\n",
    "from sklearn.preprocessing import LabelBinarizer\n",
    "from sklearn.model_selection import train_test_split\n",
    "\n",
    "from pyrcn.extreme_learning_machine import ELMRegressor\n",
    "\n",
    "\n",
    "def test_iris():\n",
    "    X, y = load_iris(return_X_y=True)\n",
    "    X_train, X_test, y_train, y_test = train_test_split(X, y, test_size=0.05)\n",
    "    lb = LabelBinarizer().fit(y)\n",
    "    y_train_numeric = lb.transform(y_train)\n",
    "    classifier = ELMClassifier(hidden_layer_size=10)\n",
    "    classifier.fit(X_train, y_train_numeric)\n",
    "    y_predicted_numeric = classifier.predict(X_test)\n",
    "    y_predicted = lb.inverse_transform(y_predicted_numeric)\n",
    "\n",
    "    for record in range(len(y_test)):\n",
    "        print('predicted: {0} \\ttrue: {1}'.format(y_predicted[record], y_test[record]))\n",
    "        \n",
    "\n",
    "test_iris()"
   ]
  }
 ],
 "metadata": {
  "kernelspec": {
   "display_name": "Python 3 (ipykernel)",
   "language": "python",
   "name": "python3"
  },
  "language_info": {
   "codemirror_mode": {
    "name": "ipython",
    "version": 3
   },
   "file_extension": ".py",
   "mimetype": "text/x-python",
   "name": "python",
   "nbconvert_exporter": "python",
   "pygments_lexer": "ipython3",
   "version": "3.8.6"
  }
 },
 "nbformat": 4,
 "nbformat_minor": 4
}
