{
 "cells": [
  {
   "cell_type": "markdown",
   "metadata": {},
   "source": [
    "Starting point for MNIST digit classification according to Jalalvand"
   ]
  },
  {
   "cell_type": "code",
   "execution_count": 1,
   "metadata": {},
   "outputs": [],
   "source": [
    "import numpy as np\n",
    "from sklearn.datasets import fetch_openml\n",
    "from tqdm import tqdm\n",
    "\n",
    "from sklearn.model_selection import train_test_split\n",
    "from sklearn.metrics import mean_squared_error, accuracy_score, classification_report, confusion_matrix, ConfusionMatrixDisplay\n",
    "\n",
    "from pyrcn.echo_state_network import ESNClassifier\n",
    "from pyrcn.linear_model import IncrementalRegression\n",
    "from pyrcn.base import InputToNode, NodeToNode\n",
    "\n",
    "from matplotlib import pyplot as plt\n",
    "plt.rcParams['image.cmap'] = 'jet'\n",
    "plt.rcParams['pdf.fonttype'] = 42\n",
    "plt.rcParams['ps.fonttype'] = 42\n",
    "%matplotlib inline"
   ]
  },
  {
   "cell_type": "markdown",
   "metadata": {},
   "source": [
    "Load the dataset"
   ]
  },
  {
   "cell_type": "code",
   "execution_count": 2,
   "metadata": {},
   "outputs": [],
   "source": [
    "X, y = fetch_openml('mnist_784', version=1, return_X_y=True, as_frame=False)"
   ]
  },
  {
   "cell_type": "markdown",
   "metadata": {},
   "source": [
    "Provide standard split in training and test. Further split training set for validation. Normalize to a range between [0, 1].\n",
    "\n",
    "Reshape to obtain 28x28 images"
   ]
  },
  {
   "cell_type": "code",
   "execution_count": 3,
   "metadata": {},
   "outputs": [
    {
     "data": {
      "text/plain": [
       "<matplotlib.image.AxesImage at 0x1fa94187a08>"
      ]
     },
     "execution_count": 3,
     "metadata": {},
     "output_type": "execute_result"
    },
    {
     "data": {
      "image/png": "[encoded data removed]",
      "text/plain": [
       "<Figure size 432x288 with 1 Axes>"
      ]
     },
     "metadata": {
      "needs_background": "light"
     },
     "output_type": "display_data"
    },
    {
     "data": {
      "image/png": "[encoded data removed]",
      "text/plain": [
       "<Figure size 432x288 with 1 Axes>"
      ]
     },
     "metadata": {
      "needs_background": "light"
     },
     "output_type": "display_data"
    }
   ],
   "source": [
    "X_train, X_test = X[:60000] / 255., X[60000:] / 255.\n",
    "y = y.astype(int)\n",
    "y_train, y_test = y[:60000], y[60000:]\n",
    "X_train, X_val, y_train, y_val = train_test_split(X_train, y_train, stratify=y_train, test_size=0.2, random_state=42)\n",
    "\n",
    "X_train = [X_train[k].reshape(28, 28).T for k in range(len(X_train))]\n",
    "X_val = [X_val[k].reshape(28, 28).T for k in range(len(X_val))]\n",
    "X_test = [X_test[k].reshape(28, 28).T for k in range(len(X_test))]\n",
    "plt.figure()\n",
    "plt.imshow(X_train[1])\n",
    "X_tmp = np.pad(X_train[1], ((2, 2), (0, 0)), 'edge')\n",
    "X_tmp = np.concatenate((X_tmp[:-4, :], X_tmp[1:-3, :], X_tmp[2:-2, :], X_tmp[3:-1, :], X_tmp[4:, :]), axis=1)\n",
    "plt.figure()\n",
    "plt.imshow(X_tmp)"
   ]
  },
  {
   "cell_type": "markdown",
   "metadata": {},
   "source": [
    "Provide a basic ESN with Aza's parameters"
   ]
  },
  {
   "cell_type": "code",
   "execution_count": 4,
   "metadata": {},
   "outputs": [],
   "source": [
    "base_input_to_nodes = InputToNode(hidden_layer_size=500, activation='identity', k_in=10, input_scaling=0.4, bias_scaling=0.0)\n",
    "base_nodes_to_nodes = NodeToNode(hidden_layer_size=500, spectral_radius=0.4, leakage=0.5, bias_scaling=0.3, k_rec=10)\n",
    "\n",
    "esn = ESNClassifier(input_to_nodes=[('default', base_input_to_nodes)],\n",
    "                    nodes_to_nodes=[('default', base_nodes_to_nodes)],\n",
    "                    regressor=IncrementalRegression(alpha=1e-3), random_state=10)"
   ]
  },
  {
   "cell_type": "markdown",
   "metadata": {},
   "source": [
    "Validate that the target preparation works correct"
   ]
  },
  {
   "cell_type": "code",
   "execution_count": 5,
   "metadata": {},
   "outputs": [
    {
     "data": {
      "text/plain": [
       "(28, 140)"
      ]
     },
     "execution_count": 5,
     "metadata": {},
     "output_type": "execute_result"
    }
   ],
   "source": [
    "X = np.pad(X_train[1], ((2, 2), (0, 0)), 'edge')\n",
    "X = np.concatenate((X[:-4, :], X[1:-3, :], X[2:-2, :], X[3:-1, :], X[4:, :]), axis=1)\n",
    "X.shape\n"
   ]
  },
  {
   "cell_type": "code",
   "execution_count": 6,
   "metadata": {},
   "outputs": [
    {
     "data": {
      "text/plain": [
       "array([10, 10, 10, 10, 10,  1,  1,  1,  1,  1,  1,  1,  1,  1,  1,  1,  1,\n",
       "        1,  1,  1,  1,  1,  1, 10, 10, 10, 10, 10])"
      ]
     },
     "execution_count": 6,
     "metadata": {},
     "output_type": "execute_result"
    }
   ],
   "source": [
    "y = np.repeat(y_train[0], repeats=28, axis=0)\n",
    "y[np.argwhere(X.sum(axis=1)==0)] = 10\n",
    "y"
   ]
  },
  {
   "cell_type": "markdown",
   "metadata": {},
   "source": [
    "Train this ESN"
   ]
  },
  {
   "cell_type": "code",
   "execution_count": 7,
   "metadata": {},
   "outputs": [
    {
     "name": "stderr",
     "output_type": "stream",
     "text": [
      "100%|████████████████████████████████████████████████████████████████████████████| 48000/48000 [32:03<00:00, 24.95it/s]\n"
     ]
    }
   ],
   "source": [
    "with tqdm(total=len(X_train)) as pbar:\n",
    "    for X, y in zip(X_train, y_train):\n",
    "        X = np.pad(X, ((2, 2), (0, 0)), 'edge')\n",
    "        X = np.concatenate((X[:-4, :], X[1:-3, :], X[2:-2, :], X[3:-1, :], X[4:, :]), axis=1)\n",
    "        y = np.repeat(y, repeats=28, axis=0)\n",
    "        y[np.argwhere(X.sum(axis=1)==0)] = 10\n",
    "        esn.partial_fit(X=X, y=y, classes=np.arange(11))\n",
    "        pbar.update(1)        \n"
   ]
  },
  {
   "cell_type": "code",
   "execution_count": 8,
   "metadata": {},
   "outputs": [
    {
     "name": "stderr",
     "output_type": "stream",
     "text": [
      "100%|████████████████████████████████████████████████████████████████████████████| 12000/12000 [08:01<00:00, 26.32it/s]\n"
     ]
    }
   ],
   "source": [
    "with tqdm(total=len(X_val)) as pbar:\n",
    "    for X, y in zip(X_val, y_val):\n",
    "        X = np.pad(X, ((2, 2), (0, 0)), 'edge')\n",
    "        X = np.concatenate((X[:-4, :], X[1:-3, :], X[2:-2, :], X[3:-1, :], X[4:, :]), axis=1)\n",
    "        y = np.repeat(y, repeats=28, axis=0)\n",
    "        y[np.argwhere(X.sum(axis=1)==0)] = 10\n",
    "        esn.partial_fit(X=X, y=y)\n",
    "        pbar.update(1)"
   ]
  },
  {
   "cell_type": "markdown",
   "metadata": {},
   "source": [
    "Compute final measurements"
   ]
  },
  {
   "cell_type": "code",
   "execution_count": 9,
   "metadata": {},
   "outputs": [
    {
     "name": "stderr",
     "output_type": "stream",
     "text": [
      "100%|███████████████████████████████████████████████████████████████████████████| 48000/48000 [02:22<00:00, 335.75it/s]\n",
      "100%|███████████████████████████████████████████████████████████████████████████| 12000/12000 [00:35<00:00, 338.30it/s]\n",
      "100%|███████████████████████████████████████████████████████████████████████████| 10000/10000 [00:29<00:00, 340.46it/s]\n"
     ]
    }
   ],
   "source": [
    "Y_true_train = []\n",
    "Y_pred_train = []\n",
    "with tqdm(total=len(X_train)) as pbar:\n",
    "    for X, y in zip(X_train, y_train):\n",
    "        X = np.pad(X, ((2, 2), (0, 0)), 'edge')\n",
    "        X = np.concatenate((X[:-4, :], X[1:-3, :], X[2:-2, :], X[3:-1, :], X[4:, :]), axis=1)\n",
    "        y_pred = esn.predict_proba(X=X)[4:-4, :-1]\n",
    "        Y_true_train.append(y)\n",
    "        Y_pred_train.append(np.argmax(y_pred.sum(axis=0)))\n",
    "        pbar.update(1)\n",
    "\n",
    "with tqdm(total=len(X_val)) as pbar:\n",
    "    for X, y in zip(X_val, y_val):\n",
    "        X = np.pad(X, ((2, 2), (0, 0)), 'edge')\n",
    "        X = np.concatenate((X[:-4, :], X[1:-3, :], X[2:-2, :], X[3:-1, :], X[4:, :]), axis=1)\n",
    "        y_pred = esn.predict_proba(X=X)[4:-4, :-1]\n",
    "        Y_true_train.append(y)\n",
    "        Y_pred_train.append(np.argmax(y_pred.sum(axis=0)))\n",
    "        pbar.update(1)\n",
    "\n",
    "Y_true_test = []\n",
    "Y_pred_test = []\n",
    "with tqdm(total=len(X_test)) as pbar:\n",
    "    for X, y in zip(X_test, y_test):\n",
    "        X = np.pad(X, ((2, 2), (0, 0)), 'edge')\n",
    "        X = np.concatenate((X[:-4, :], X[1:-3, :], X[2:-2, :], X[3:-1, :], X[4:, :]), axis=1)\n",
    "        y_pred = esn.predict_proba(X=X)[4:-4, :-1]\n",
    "        Y_true_test.append(y)\n",
    "        Y_pred_test.append(np.argmax(y_pred.sum(axis=0)))\n",
    "        pbar.update(1)"
   ]
  },
  {
   "cell_type": "markdown",
   "metadata": {},
   "source": [
    "Confusion matrices"
   ]
  },
  {
   "cell_type": "code",
   "execution_count": 10,
   "metadata": {},
   "outputs": [
    {
     "name": "stdout",
     "output_type": "stream",
     "text": [
      "Classification training report for estimator ESNClassifier(input_to_nodes=[('default',\n",
      "                               InputToNode(activation='identity',\n",
      "                                           bias_scaling=0.0, input_scaling=0.4,\n",
      "                                           k_in=10,\n",
      "                                           random_state=RandomState(MT19937) at 0x1FAFEF69048,\n",
      "                                           sparsity=0.07142857142857142))],\n",
      "              nodes_to_nodes=[('default',\n",
      "                               NodeToNode(bias_scaling=0.3, k_rec=10,\n",
      "                                          leakage=0.5,\n",
      "                                          random_state=RandomState(MT19937) at 0x1FAFEF69048,\n",
      "                                          sparsity=0.02,\n",
      "                                          spectral_radius=0.4))],\n",
      "              random_state=RandomState(MT19937) at 0x1FA940507B8,\n",
      "              regressor=IncrementalRegression(alpha=0.001)):\n",
      "              precision    recall  f1-score   support\n",
      "\n",
      "           0     0.9174    0.9453    0.9311      5923\n",
      "           1     0.9583    0.9709    0.9646      6742\n",
      "           2     0.8711    0.8802    0.8756      5958\n",
      "           3     0.8380    0.8676    0.8525      6131\n",
      "           4     0.8699    0.9190    0.8938      5842\n",
      "           5     0.9098    0.7497    0.8220      5421\n",
      "           6     0.9088    0.9431    0.9256      5918\n",
      "           7     0.8838    0.9239    0.9034      6265\n",
      "           8     0.9215    0.8523    0.8856      5851\n",
      "           9     0.8506    0.8519    0.8513      5949\n",
      "\n",
      "    accuracy                         0.8928     60000\n",
      "   macro avg     0.8929    0.8904    0.8905     60000\n",
      "weighted avg     0.8934    0.8928    0.8920     60000\n",
      "\n",
      "\n"
     ]
    },
    {
     "data": {
      "image/png": "[encoded data removed]",
      "text/plain": [
       "<Figure size 432x288 with 2 Axes>"
      ]
     },
     "metadata": {
      "needs_background": "light"
     },
     "output_type": "display_data"
    },
    {
     "name": "stdout",
     "output_type": "stream",
     "text": [
      "Classification test report for estimator ESNClassifier(input_to_nodes=[('default',\n",
      "                               InputToNode(activation='identity',\n",
      "                                           bias_scaling=0.0, input_scaling=0.4,\n",
      "                                           k_in=10,\n",
      "                                           random_state=RandomState(MT19937) at 0x1FAFEF69048,\n",
      "                                           sparsity=0.07142857142857142))],\n",
      "              nodes_to_nodes=[('default',\n",
      "                               NodeToNode(bias_scaling=0.3, k_rec=10,\n",
      "                                          leakage=0.5,\n",
      "                                          random_state=RandomState(MT19937) at 0x1FAFEF69048,\n",
      "                                          sparsity=0.02,\n",
      "                                          spectral_radius=0.4))],\n",
      "              random_state=RandomState(MT19937) at 0x1FA940507B8,\n",
      "              regressor=IncrementalRegression(alpha=0.001)):\n",
      "              precision    recall  f1-score   support\n",
      "\n",
      "           0     0.9259    0.9429    0.9343       980\n",
      "           1     0.9613    0.9850    0.9730      1135\n",
      "           2     0.8785    0.8895    0.8840      1032\n",
      "           3     0.8517    0.8812    0.8662      1010\n",
      "           4     0.8819    0.9430    0.9114       982\n",
      "           5     0.9061    0.7466    0.8187       892\n",
      "           6     0.9026    0.9384    0.9202       958\n",
      "           7     0.8774    0.9193    0.8979      1028\n",
      "           8     0.9418    0.8799    0.9098       974\n",
      "           9     0.9011    0.8761    0.8884      1009\n",
      "\n",
      "    accuracy                         0.9027     10000\n",
      "   macro avg     0.9028    0.9002    0.9004     10000\n",
      "weighted avg     0.9033    0.9027    0.9019     10000\n",
      "\n",
      "\n"
     ]
    },
    {
     "data": {
      "image/png": "[encoded data removed]",
      "text/plain": [
       "<Figure size 432x288 with 2 Axes>"
      ]
     },
     "metadata": {
      "needs_background": "light"
     },
     "output_type": "display_data"
    }
   ],
   "source": [
    "cm = confusion_matrix(Y_true_train, Y_pred_train)\n",
    "cm_display = ConfusionMatrixDisplay(cm, display_labels=[0, 1, 2, 3, 4, 5, 6, 7, 8, 9]).plot()\n",
    "print(\"Classification training report for estimator %s:\\n%s\\n\"\n",
    "  % (esn, classification_report(Y_true_train, Y_pred_train, digits=4)))\n",
    "plt.show()\n",
    "\n",
    "cm = confusion_matrix(Y_true_test, Y_pred_test)\n",
    "cm_display = ConfusionMatrixDisplay(cm, display_labels=[0, 1, 2, 3, 4, 5, 6, 7, 8, 9]).plot()\n",
    "print(\"Classification test report for estimator %s:\\n%s\\n\"\n",
    "  % (esn, classification_report(Y_true_test, Y_pred_test, digits=4)))\n",
    "plt.show()"
   ]
  },
  {
   "cell_type": "markdown",
   "metadata": {},
   "source": [
    "Optimization of hyper-parameters"
   ]
  },
  {
   "cell_type": "code",
   "execution_count": 11,
   "metadata": {},
   "outputs": [],
   "source": [
    "base_input_to_nodes = InputToNode(hidden_layer_size=500, activation='identity', k_in=10, input_scaling=0.4, bias_scaling=0.0)\n",
    "base_nodes_to_nodes = NodeToNode(hidden_layer_size=500, activation='tanh', spectral_radius=0.0, leakage=1.0, bias_scaling=0.0, k_rec=10)\n",
    "regressor=IncrementalRegression(alpha=1e-3)\n",
    "\n",
    "grid = {'input_scaling': [0.1, 0.2, 0.3, 0.4, 0.5, 0.6, 0.7, 0.8, 0.9, 1.0, 1.1, 1.2, 1.3, 1.4, 1.5], \n",
    "        'spectral_radius': [0.0, 0.1, 0.2, 0.3, 0.4, 0.5, 0.6, 0.7, 0.8, 0.9, 1.0]\n",
    "       }\n",
    "base_esn = ESNClassifier(input_to_nodes=[('default', base_input_to_nodes)],\n",
    "                         nodes_to_nodes=[('default', base_nodes_to_nodes)],\n",
    "                         regressor=IncrementalRegression(alpha=1e-3), random_state=10)"
   ]
  },
  {
   "cell_type": "code",
   "execution_count": 12,
   "metadata": {},
   "outputs": [],
   "source": [
    "def opt_function(base_input_to_node, base_node_to_node, params, X_train, y_train, X_test, y_test):\n",
    "    input_to_nodes = clone(base_input_to_nodes)\n",
    "    nodes_to_nodes = clone(base_nodes_to_nodes)\n",
    "    input_to_nodes.set_params(**{'input_scaling': params['input_scaling']})\n",
    "    nodes_to_nodes.set_params(**{'spectral_radius': params['spectral_radius']})\n",
    "    esn = ESNClassifier(input_to_nodes=[('default', input_to_nodes)],\n",
    "                        nodes_to_nodes=[('default', nodes_to_nodes)],\n",
    "                        regressor=IncrementalRegression(alpha=5e-3), random_state=10)\n",
    "    for X, y in zip(X_train, y_train):\n",
    "        y = np.repeat(np.atleast_2d(y), repeats=8, axis=0)\n",
    "        reg.partial_fit(X=X, y=y, update_output_weights=False)\n",
    "    reg.finalize()\n",
    "    err_train = []\n",
    "    for X, y in zip(X_train, y_train):\n",
    "        y = np.repeat(np.atleast_2d(y), repeats=8, axis=0)\n",
    "        y_pred = reg.predict(X=X, keep_reservoir_state=False)\n",
    "        err_train.append(mean_squared_error(y, y_pred))\n",
    "    err_test = []\n",
    "    for X, y in zip(X_test, y_test):\n",
    "        y = np.repeat(np.atleast_2d(y), repeats=8, axis=0)\n",
    "        y_pred = reg.predict(X=X, keep_reservoir_state=False)\n",
    "        err_test.append(mean_squared_error(y, y_pred))\n",
    "    return [np.mean(err_train), np.mean(err_test)]"
   ]
  }
 ],
 "metadata": {
  "kernelspec": {
   "display_name": "Python 3",
   "language": "python",
   "name": "python3"
  },
  "language_info": {
   "codemirror_mode": {
    "name": "ipython",
    "version": 3
   },
   "file_extension": ".py",
   "mimetype": "text/x-python",
   "name": "python",
   "nbconvert_exporter": "python",
   "pygments_lexer": "ipython3",
   "version": "3.7.5"
  }
 },
 "nbformat": 4,
 "nbformat_minor": 2
}
