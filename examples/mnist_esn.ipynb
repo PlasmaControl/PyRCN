{
 "cells": [
  {
   "cell_type": "markdown",
   "metadata": {},
   "source": [
    "Starting point for MNIST digit classification according to Jalalvand"
   ]
  },
  {
   "cell_type": "code",
   "execution_count": 1,
   "metadata": {},
   "outputs": [],
   "source": [
    "import numpy as np\n",
    "from sklearn.datasets import fetch_openml\n",
    "from tqdm import tqdm\n",
    "\n",
    "from sklearn.pipeline import FeatureUnion\n",
    "from sklearn.cluster import MiniBatchKMeans\n",
    "from sklearn.model_selection import train_test_split, ParameterGrid\n",
    "from sklearn.base import clone\n",
    "from sklearn.metrics import silhouette_score, mean_squared_error, accuracy_score, classification_report, confusion_matrix, ConfusionMatrixDisplay\n",
    "from joblib import dump, load, Parallel, delayed\n",
    "\n",
    "from pyrcn.echo_state_network import ESNClassifier\n",
    "from pyrcn.linear_model import IncrementalRegression, FastIncrementalRegression\n",
    "from pyrcn.base import InputToNode, NodeToNode\n",
    "\n",
    "from matplotlib import pyplot as plt\n",
    "plt.rcParams['image.cmap'] = 'jet'\n",
    "plt.rcParams['pdf.fonttype'] = 42\n",
    "plt.rcParams['ps.fonttype'] = 42\n",
    "%matplotlib inline"
   ]
  },
  {
   "cell_type": "markdown",
   "metadata": {},
   "source": [
    "Load the dataset"
   ]
  },
  {
   "cell_type": "code",
   "execution_count": 2,
   "metadata": {},
   "outputs": [],
   "source": [
    "X, y = fetch_openml('mnist_784', version=1, return_X_y=True, as_frame=False)"
   ]
  },
  {
   "cell_type": "markdown",
   "metadata": {},
   "source": [
    "Provide standard split in training and test. Further split training set for validation. Normalize to a range between [0, 1].\n",
    "\n",
    "Reshape to obtain 28x28 images"
   ]
  },
  {
   "cell_type": "code",
   "execution_count": 3,
   "metadata": {},
   "outputs": [
    {
     "data": {
      "text/plain": [
       "<matplotlib.image.AxesImage at 0x1ca8abb3948>"
      ]
     },
     "execution_count": 3,
     "metadata": {},
     "output_type": "execute_result"
    },
    {
     "data": {
      "image/png": "[encoded data removed]",
      "text/plain": [
       "<Figure size 432x288 with 1 Axes>"
      ]
     },
     "metadata": {
      "needs_background": "light"
     },
     "output_type": "display_data"
    }
   ],
   "source": [
    "X_train, X_test = X[:60000] / 255., X[60000:] / 255.\n",
    "y = y.astype(int)\n",
    "y_train, y_test = y[:60000], y[60000:]\n",
    "X_train, X_val, y_train, y_val = train_test_split(X_train, y_train, stratify=y_train, test_size=0.2, random_state=42)\n",
    "\n",
    "X_train = [X_train[k].reshape(28, 28).T for k in range(len(X_train))]\n",
    "X_val = [X_val[k].reshape(28, 28).T for k in range(len(X_val))]\n",
    "X_test = [X_test[k].reshape(28, 28).T for k in range(len(X_test))]\n",
    "plt.figure()\n",
    "plt.imshow(X_train[1])"
   ]
  },
  {
   "cell_type": "code",
   "execution_count": null,
   "metadata": {},
   "outputs": [],
   "source": []
  },
  {
   "cell_type": "code",
   "execution_count": 6,
   "metadata": {},
   "outputs": [
    {
     "data": {
      "text/plain": [
       "0.09993497398959583"
      ]
     },
     "execution_count": 6,
     "metadata": {},
     "output_type": "execute_result"
    }
   ],
   "source": [
    "X_train_bin = [X_train[k]]"
   ]
  },
  {
   "cell_type": "markdown",
   "metadata": {},
   "source": [
    "Provide a basic ESN with Aza's parameters"
   ]
  },
  {
   "cell_type": "code",
   "execution_count": 9,
   "metadata": {},
   "outputs": [],
   "source": [
    "base_input_to_nodes = InputToNode(hidden_layer_size=16000, activation='identity', k_in=10, input_scaling=0.4, bias_scaling=0.0)\n",
    "base_nodes_to_nodes = NodeToNode(hidden_layer_size=16000, spectral_radius=0.4, leakage=0.5, bias_scaling=0.3, k_rec=10)\n",
    "\n",
    "esn = ESNClassifier(input_to_nodes=[('default', base_input_to_nodes)],\n",
    "                    nodes_to_nodes=[('default', base_nodes_to_nodes)],\n",
    "                    regressor=FastIncrementalRegression(alpha=1e-3), random_state=10)"
   ]
  },
  {
   "cell_type": "markdown",
   "metadata": {},
   "source": [
    "Train this ESN"
   ]
  },
  {
   "cell_type": "code",
   "execution_count": null,
   "metadata": {},
   "outputs": [
    {
     "name": "stderr",
     "output_type": "stream",
     "text": [
      " 57%|███████████████████████████████████████▊                              | 27327/48000 [21:27:56<17:02:36,  2.97s/it]"
     ]
    }
   ],
   "source": [
    "try:\n",
    "    esn = load(\"rand_esn_16000_uni_fast.joblib\")\n",
    "except FileNotFoundError:\n",
    "    with tqdm(total=len(X_train)) as pbar:\n",
    "        for X, y in zip(X_train, y_train):\n",
    "            y = np.repeat(y, repeats=28, axis=0)\n",
    "            y[np.argwhere(X.sum(axis=1)==0)] = 10\n",
    "            esn.partial_fit(X=X, y=y, classes=np.arange(11), update_output_weights=False)\n",
    "            pbar.update(1)       \n",
    "    with tqdm(total=len(X_val)) as pbar:\n",
    "        for X, y in zip(X_val[:-1], y_val[:-1]):\n",
    "            y = np.repeat(y, repeats=28, axis=0)\n",
    "            y[np.argwhere(X.sum(axis=1)==0)] = 10\n",
    "            esn.partial_fit(X=X, y=y, update_output_weights=False)\n",
    "            pbar.update(1)\n",
    "        X = X_val[-1]\n",
    "        y = np.repeat(y_val[-1], repeats=28, axis=0)\n",
    "        y[np.argwhere(X.sum(axis=1)==0)] = 10\n",
    "        esn.partial_fit(X=X, y=y, update_output_weights=True)\n",
    "        pbar.update(1)\n",
    "\n",
    "    dump(esn, \"rand_esn_16000_uni_fast.joblib\")"
   ]
  },
  {
   "cell_type": "markdown",
   "metadata": {},
   "source": [
    "Compute final measurements"
   ]
  },
  {
   "cell_type": "code",
   "execution_count": null,
   "metadata": {},
   "outputs": [],
   "source": [
    "Y_true_train = []\n",
    "Y_pred_train = []\n",
    "with tqdm(total=len(X_train)) as pbar:\n",
    "    for X, y in zip(X_train, y_train):\n",
    "        y_pred = esn.predict_proba(X=X)[np.argwhere(X.sum(axis=1)!=0), :-1]\n",
    "        Y_true_train.append(y)\n",
    "        Y_pred_train.append(np.argmax(y_pred.sum(axis=0)))\n",
    "        pbar.update(1)\n",
    "\n",
    "with tqdm(total=len(X_val)) as pbar:\n",
    "    for X, y in zip(X_val, y_val):\n",
    "        y_pred = esn.predict_proba(X=X)[np.argwhere(X.sum(axis=1)!=0), :-1]\n",
    "        Y_true_train.append(y)\n",
    "        Y_pred_train.append(np.argmax(y_pred.sum(axis=0)))\n",
    "        pbar.update(1)\n",
    "\n",
    "Y_true_test = []\n",
    "Y_pred_test = []\n",
    "with tqdm(total=len(X_test)) as pbar:\n",
    "    for X, y in zip(X_test, y_test):\n",
    "        y_pred = esn.predict_proba(X=X)[np.argwhere(X.sum(axis=1)!=0), :-1]\n",
    "        Y_true_test.append(y)\n",
    "        Y_pred_test.append(np.argmax(y_pred.sum(axis=0)))\n",
    "        pbar.update(1)"
   ]
  },
  {
   "cell_type": "markdown",
   "metadata": {},
   "source": [
    "Confusion matrices"
   ]
  },
  {
   "cell_type": "code",
   "execution_count": null,
   "metadata": {},
   "outputs": [],
   "source": [
    "cm = confusion_matrix(Y_true_train, Y_pred_train)\n",
    "cm_display = ConfusionMatrixDisplay(cm, display_labels=[0, 1, 2, 3, 4, 5, 6, 7, 8, 9]).plot()\n",
    "print(\"Classification training report for estimator %s:\\n%s\\n\"\n",
    "  % (esn, classification_report(Y_true_train, Y_pred_train, digits=4)))\n",
    "plt.show()\n",
    "\n",
    "cm = confusion_matrix(Y_true_test, Y_pred_test)\n",
    "cm_display = ConfusionMatrixDisplay(cm, display_labels=[0, 1, 2, 3, 4, 5, 6, 7, 8, 9]).plot()\n",
    "print(\"Classification test report for estimator %s:\\n%s\\n\"\n",
    "  % (esn, classification_report(Y_true_test, Y_pred_test, digits=4)))\n",
    "plt.show()"
   ]
  },
  {
   "cell_type": "markdown",
   "metadata": {},
   "source": [
    "Provide a basic ESN with Aza's parameters and train this ESN"
   ]
  },
  {
   "cell_type": "code",
   "execution_count": null,
   "metadata": {},
   "outputs": [],
   "source": [
    "kmeans = MiniBatchKMeans(n_clusters=8000, n_init=20, reassignment_ratio=0, max_no_improvement=50, init='k-means++', verbose=2, random_state=2)\n",
    "kmeans.fit(X=np.concatenate(X_train + X_val))\n",
    "base_input_to_nodes = InputToNode(hidden_layer_size=8000, activation='identity', k_in=10, input_scaling=0.5, bias_scaling=0.0, random_state=10)\n",
    "base_nodes_to_nodes = NodeToNode(hidden_layer_size=8000, spectral_radius=0.8, leakage=0.2, bias_scaling=0.1, k_rec=10, random_state=10)\n",
    "base_reg = FastIncrementalRegression(alpha=1e-3)\n",
    "w_in = np.divide(kmeans.cluster_centers_, np.linalg.norm(kmeans.cluster_centers_, axis=1)[:, None])\n",
    "# w_in = np.pad(np.divide(kmeans.cluster_centers_, np.linalg.norm(kmeans.cluster_centers_, axis=1)[:, None]), ((0, 1600), (0, 0)), mode='constant', constant_values=0)\n",
    "base_input_to_nodes.fit(X=X_train[0])\n",
    "base_input_to_nodes._input_weights = w_in.T\n",
    "\n",
    "\n",
    "esn = ESNClassifier(input_to_nodes=[('default', base_input_to_nodes)],\n",
    "                    nodes_to_nodes=[('default', base_nodes_to_nodes)],\n",
    "                    regressor=base_reg)\n",
    "esn._input_to_node =FeatureUnion(transformer_list=[('default', base_input_to_nodes)], n_jobs=None, transformer_weights=None).fit(X_train[0])\n",
    "esn._input_to_node.transformer_list[0][1]._input_weights = w_in.T\n",
    "\n",
    "try:\n",
    "    esn = load(\"kmeans_esn_8000_uni_fast.joblib\")\n",
    "except FileNotFoundError:\n",
    "    with tqdm(total=len(X_train)) as pbar:\n",
    "        for X, y in zip(X_train, y_train):\n",
    "            y = np.repeat(y, repeats=28, axis=0)\n",
    "            y[np.argwhere(X.sum(axis=1)==0)] = 10\n",
    "            esn.partial_fit(X=X, y=y, classes=np.arange(11))\n",
    "            pbar.update(1)       \n",
    "    with tqdm(total=len(X_val)) as pbar:\n",
    "        for X, y in zip(X_val[:-1], y_val[:-1]):\n",
    "            y = np.repeat(y, repeats=28, axis=0)\n",
    "            y[np.argwhere(X.sum(axis=1)==0)] = 10\n",
    "            esn.partial_fit(X=X, y=y, classes=np.arange(11), update_output_weights=False)\n",
    "            pbar.update(1)\n",
    "        X = X_val[-1]\n",
    "        y = np.repeat(y_val[-1], repeats=28, axis=0)\n",
    "        y[np.argwhere(X.sum(axis=1)==0)] = 10\n",
    "        esn.partial_fit(X=X, y=y, update_output_weights=True)\n",
    "        pbar.update(1)\n",
    "    dump(esn, \"kmeans_esn_8000_uni_fast.joblib\")"
   ]
  },
  {
   "cell_type": "markdown",
   "metadata": {},
   "source": [
    "Compute final measurements"
   ]
  },
  {
   "cell_type": "code",
   "execution_count": null,
   "metadata": {},
   "outputs": [],
   "source": [
    "Y_true_train = []\n",
    "Y_pred_train = []\n",
    "with tqdm(total=len(X_train)) as pbar:\n",
    "    for X, y in zip(X_train, y_train):\n",
    "        y_pred = esn.predict_proba(X=X)[np.argwhere(X.sum(axis=1)!=0), :-1]\n",
    "        Y_true_train.append(y)\n",
    "        Y_pred_train.append(np.argmax(y_pred.sum(axis=0)))\n",
    "        pbar.update(1)\n",
    "\n",
    "with tqdm(total=len(X_val)) as pbar:\n",
    "    for X, y in zip(X_val, y_val):\n",
    "        y_pred = esn.predict_proba(X=X)[np.argwhere(X.sum(axis=1)!=0), :-1]\n",
    "        Y_true_train.append(y)\n",
    "        Y_pred_train.append(np.argmax(y_pred.sum(axis=0)))\n",
    "        pbar.update(1)\n",
    "\n",
    "Y_true_test = []\n",
    "Y_pred_test = []\n",
    "with tqdm(total=len(X_test)) as pbar:\n",
    "    for X, y in zip(X_test, y_test):\n",
    "        y_pred = esn.predict_proba(X=X)[np.argwhere(X.sum(axis=1)!=0), :-1]\n",
    "        Y_true_test.append(y)\n",
    "        Y_pred_test.append(np.argmax(y_pred.sum(axis=0)))\n",
    "        pbar.update(1)"
   ]
  },
  {
   "cell_type": "markdown",
   "metadata": {},
   "source": [
    "Confusion matrices"
   ]
  },
  {
   "cell_type": "code",
   "execution_count": null,
   "metadata": {},
   "outputs": [],
   "source": [
    "cm = confusion_matrix(Y_true_train, Y_pred_train)\n",
    "cm_display = ConfusionMatrixDisplay(cm, display_labels=[0, 1, 2, 3, 4, 5, 6, 7, 8, 9]).plot()\n",
    "print(\"Classification training report for estimator %s:\\n%s\\n\"\n",
    "  % (esn, classification_report(Y_true_train, Y_pred_train, digits=4)))\n",
    "plt.show()\n",
    "\n",
    "cm = confusion_matrix(Y_true_test, Y_pred_test)\n",
    "cm_display = ConfusionMatrixDisplay(cm, display_labels=[0, 1, 2, 3, 4, 5, 6, 7, 8, 9]).plot()\n",
    "print(\"Classification test report for estimator %s:\\n%s\\n\"\n",
    "  % (esn, classification_report(Y_true_test, Y_pred_test, digits=4)))\n",
    "plt.show()"
   ]
  },
  {
   "cell_type": "code",
   "execution_count": null,
   "metadata": {},
   "outputs": [],
   "source": []
  }
 ],
 "metadata": {
  "kernelspec": {
   "display_name": "Python 3",
   "language": "python",
   "name": "python3"
  },
  "language_info": {
   "codemirror_mode": {
    "name": "ipython",
    "version": 3
   },
   "file_extension": ".py",
   "mimetype": "text/x-python",
   "name": "python",
   "nbconvert_exporter": "python",
   "pygments_lexer": "ipython3",
   "version": "3.7.5"
  }
 },
 "nbformat": 4,
 "nbformat_minor": 2
}
