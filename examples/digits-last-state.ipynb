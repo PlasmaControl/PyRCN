{
 "cells": [
  {
   "cell_type": "markdown",
   "metadata": {},
   "source": [
    "# Recognizing hand-written digits\n",
    "\n",
    "## Introduction\n",
    "\n",
    "This notebook adapts the existing example of applying support vector classification from scikit-learn ([https://scikit-learn.org/stable/auto_examples/classification/plot_digits_classification.html#sphx-glr-auto-examples-classification-plot-digits-classification-py](https://scikit-learn.org/stable/auto_examples/classification/plot_digits_classification.html#sphx-glr-auto-examples-classification-plot-digits-classification-py)) to PyRCN to demonstrate, how PyRCN can be used to classify hand-written digits.\n",
    "\n",
    "The tutorial is based on numpy, scikit-learn and PyRCN. We are using the ESNRegressor, because we further process the outputs of the ESN. Note that the same can also be done using the ESNClassifier. Then, during prediction, we simply call \"predict_proba\".\n",
    "\n",
    "This tutorial requires the Python modules numpy, scikit-learn, matplotlib and pyrcn."
   ]
  },
  {
   "cell_type": "code",
   "execution_count": null,
   "metadata": {},
   "outputs": [],
   "source": [
    "import numpy as np\n",
    "from sklearn.datasets import load_digits\n",
    "from sklearn.model_selection import train_test_split\n",
    "from sklearn.model_selection import ParameterGrid\n",
    "from sklearn.base import clone\n",
    "from sklearn.metrics import zero_one_loss, classification_report, confusion_matrix, ConfusionMatrixDisplay\n",
    "\n",
    "from matplotlib import pyplot as plt\n",
    "plt.rcParams['image.cmap'] = 'jet'\n",
    "plt.rcParams['pdf.fonttype'] = 42\n",
    "plt.rcParams['ps.fonttype'] = 42\n",
    "%matplotlib inline\n",
    "\n",
    "from pyrcn.echo_state_network import ESNClassifier\n",
    "from pyrcn.linear_model import FastIncrementalRegression\n",
    "from pyrcn.base import InputToNode, NodeToNode"
   ]
  },
  {
   "cell_type": "markdown",
   "metadata": {},
   "source": [
    "## Load the dataset\n",
    "\n",
    "The dataset is already part of scikit-learn and consists of 1797 8x8 images. We are using the dataloader from scikit-learn."
   ]
  },
  {
   "cell_type": "code",
   "execution_count": null,
   "metadata": {},
   "outputs": [],
   "source": [
    "digits = load_digits()\n",
    "data = digits.images\n",
    "print(\"Number of digits: {0}\".format(len(data)))\n",
    "print(\"Shape of digits {0}\".format(data[0].shape))"
   ]
  },
  {
   "cell_type": "markdown",
   "metadata": {},
   "source": [
    "## Split dataset in training and test\n",
    "\n",
    "We use the OneHotEncoder to transform the target output into one-hot encoded values. \n",
    "\n",
    "Afterwards, we split the dataset into training and test sets. We train the ESN using 50% of the digits and test it using the remaining images. \n",
    "\n",
    "We treat each image as a sequence of 8 feature vectors with 8 dimensions."
   ]
  },
  {
   "cell_type": "code",
   "execution_count": null,
   "metadata": {},
   "outputs": [],
   "source": [
    "y = digits.target\n",
    "X_train, X_test, y_train, y_test = train_test_split(data, y, test_size=0.5, shuffle=False)\n",
    "print(\"Number of digits in training set: {0}\".format(len(X_train)))\n",
    "print(\"Shape of digits in training set: {0}\".format(X_train[0].shape))\n",
    "print(\"Shape of output in training set: {0}\".format(y_train[0].shape))\n",
    "print(\"Number of digits in test set: {0}\".format(len(X_test)))\n",
    "print(\"Shape of digits in test set: {0}\".format(X_test[0].shape))\n",
    "print(\"Shape of output in test set: {0}\".format(y_test[0].shape))"
   ]
  },
  {
   "cell_type": "markdown",
   "metadata": {},
   "source": [
    "## Set up a basic ESN\n",
    "\n",
    "To develop an ESN model for digit recognition, we need to tune several hyper-parameters, e.g., input_scaling, spectral_radius, bias_scaling and leaky integration.\n",
    "\n",
    "We follow the way proposed in the introductory paper of PyRCN to optimize hyper-parameters sequentially.\n",
    "\n",
    "We start to jointly optimize input_scaling and spectral_radius and therefore deactivate bias connections and leaky integration. This is our base_reg.\n",
    "\n",
    "We define the search space for input_scaling and spectral_radius. This is done using best practice and background information from the literature: The spectral radius, the largest absolute eigenvalue of the reservoir matrix, is often smaller than 1. Thus, we can search in a space between 0.0 (e.g. no recurrent connections) and 1.0 (maximum recurrent connections). It is usually recommended to tune the input_scaling factor between 0.1 and 1.0. However, as this is strongly task-dependent, we decided to slightly increase the search space."
   ]
  },
  {
   "cell_type": "code",
   "execution_count": null,
   "metadata": {},
   "outputs": [],
   "source": [
    "base_input_to_node = InputToNode(hidden_layer_size=50, activation='identity', k_in=5, input_scaling=0.1,\n",
    "                                 bias_scaling=0.0, random_state=np.random.RandomState(10))\n",
    "base_node_to_node = NodeToNode(hidden_layer_size=50, spectral_radius=0.0, leakage=1.0, bias_scaling=0.0,\n",
    "                               k_rec=5, random_state=np.random.RandomState(10))\n",
    "\n",
    "base_esn = ESNClassifier(input_to_node=base_input_to_node,\n",
    "                         node_to_node=base_node_to_node,\n",
    "                         regressor=FastIncrementalRegression(alpha=1e-3))\n",
    "\n",
    "grid = {'input_scaling': [0.1, 0.2, 0.3, 0.4, 0.5, 0.6, 0.7, 0.8, 0.9, 1.0, 1.1, 1.2, 1.3, 1.4, 1.5], \n",
    "        'spectral_radius': [0.0, 0.1, 0.2, 0.3, 0.4, 0.5, 0.6, 0.7, 0.8, 0.9, 1.0]\n",
    "       }"
   ]
  },
  {
   "cell_type": "markdown",
   "metadata": {},
   "source": [
    "## Optimize input_scaling and spectral_radius\n",
    "\n",
    "We use the ParameterGrid from scikit-learn, which converts the grid parameters defined before into a list of dictionaries for each parameter combination. \n",
    "\n",
    "We loop over each entry of the Parameter Grid, set the parameters in reg and fit our model on the training data. Afterwards, we report the MSE on the training and test set.  \n",
    "\n",
    "    The lowest training error rate: 0.5089086859688196; parameter combination: {'input_scaling': 0.1, 'spectral_radius': 1.0}\n",
    "    The lowest test error rate: 0.5520022246941045; parameter combination: {'input_scaling': 0.1, 'spectral_radius': 1.0}\n",
    "\n",
    "We use the best parameter combination from the training set, because we do not want to overfit on the test set.\n",
    "\n",
    "As we can see in the python call, we have modified the training procedure: We use \"partial_fit\" in order to present the ESN all sequences independently from each other. The function \"partial_fit\" is part of the scikit-learn API. We have added one optional argument \"update_output_weights\". By default, it is True and thus, after feeding one sequence through the ESN, output weights are computed.\n",
    "\n",
    "However, as this is computationally expensive, we can deactivate computing output weights after each sequence by setting \"update_output_weights\" to False. Now, we simply collect sufficient statistics for the later linear regression. To finish the training process, we call finalize() after passing all sequences through the ESN."
   ]
  },
  {
   "cell_type": "code",
   "execution_count": null,
   "metadata": {
    "scrolled": true
   },
   "outputs": [],
   "source": [
    "for params in ParameterGrid(grid):\n",
    "    print(params)\n",
    "    input_to_node = clone(base_input_to_node)\n",
    "    node_to_node = clone(base_node_to_node)\n",
    "    \n",
    "    input_to_node.set_params(**{'input_scaling': params['input_scaling']})\n",
    "    node_to_node.set_params(**{'spectral_radius': params['spectral_radius']})\n",
    "    esn = ESNClassifier(input_to_node=input_to_node,\n",
    "                        node_to_node=node_to_node,\n",
    "                        regressor=FastIncrementalRegression(alpha=5e-3), random_state=10)\n",
    "    for X, y in zip(X_train, y_train):\n",
    "        y = np.repeat(y, repeats=8, axis=0)\n",
    "        esn.partial_fit(X=X, y=y.reshape(-1, 1), classes=range(10))\n",
    "    err_train = []\n",
    "    for X, y in zip(X_train, y_train):\n",
    "        y = np.repeat(np.atleast_2d(y), repeats=8, axis=0)\n",
    "        y_pred = esn.predict(X=X)\n",
    "        err_train.append(zero_one_loss(y, y_pred))\n",
    "    err_test = []\n",
    "    for X, y in zip(X_test, y_test):\n",
    "        y = np.repeat(np.atleast_2d(y), repeats=8, axis=0)\n",
    "        y_pred = esn.predict(X=X)\n",
    "        err_test.append(zero_one_loss(y, y_pred))\n",
    "    print('{0}\\t{1}'.format(np.mean(err_train), np.mean(err_test)))"
   ]
  },
  {
   "cell_type": "markdown",
   "metadata": {},
   "source": [
    "## Update parameter of the basic ESN\n",
    "\n",
    "After optimizing input_scaling and spectral_radius, we update our basic ESN with the identified values for input_scaling and spectral_radius. \n",
    "\n",
    "For the next optimization step, we jointly optimize bias and leakage.\n",
    "\n",
    "We define the search space for bias and leakage. This is again done using best practice and background information from the literature: The bias often lies in a similar value range as the input scaling. Thus we use exactly the same search space as before. The leakage, the parameter of the leaky integration is defined in (0.0, 1.0]. Thus, we tune the leakage between 0.1 and 1.0."
   ]
  },
  {
   "cell_type": "code",
   "execution_count": null,
   "metadata": {},
   "outputs": [],
   "source": [
    "base_input_to_node = InputToNode(hidden_layer_size=50, activation='identity', k_in=5, input_scaling=0.1,\n",
    "                                 bias_scaling=0.0, random_state=np.random.RandomState(10))\n",
    "base_node_to_node = NodeToNode(hidden_layer_size=50, spectral_radius=1.0, leakage=1.0, bias_scaling=0.0,\n",
    "                               k_rec=5, random_state=np.random.RandomState(10))\n",
    "\n",
    "base_esn = ESNClassifier(input_to_node=base_input_to_node,\n",
    "                         node_to_node=base_node_to_node,\n",
    "                         regressor=FastIncrementalRegression(alpha=1e-3))\n",
    "\n",
    "grid = {'bias_scaling': [0.0, 0.1, 0.2, 0.3, 0.4, 0.5, 0.6, 0.7, 0.8, 0.9, 1.0, 1.1, 1.2, 1.3, 1.4, 1.5], \n",
    "        'leakage': [0.1, 0.2, 0.3, 0.4, 0.5, 0.6, 0.7, 0.8, 0.9, 1.0]\n",
    "       }"
   ]
  },
  {
   "cell_type": "markdown",
   "metadata": {},
   "source": [
    "## Optimize bias and leakage\n",
    "\n",
    "The optimization workflow is exactly the same as before: We define a ParameterGrid, loop over each entry, set the parameters in reg and fit our model on the training data. Afterwards, we report the MSE on the training and test set.  \n",
    "\n",
    "    The lowest training MSE: 0.055900586; parameter combination: {'bias_scaling': 1.5, 'leakage': 0.1}\n",
    "    The lowest test MSE: 0.062124156; parameter combination: {'bias_scaling': 1.2, 'leakage': 0.2}\n",
    "\n",
    "We use the best parameter combination from the training set, because we do not want to overfit on the test set.\n",
    "\n",
    "Note that the bias differs a lot between training and test set. A reason can be that the training set does not completely represent the test set. This should actually be investigated by comparing several train_test_splits, maybe even with other sample sizes."
   ]
  },
  {
   "cell_type": "code",
   "execution_count": null,
   "metadata": {
    "scrolled": true
   },
   "outputs": [],
   "source": [
    "for params in ParameterGrid(grid):\n",
    "    print(params)\n",
    "    input_to_node = clone(base_input_to_node)\n",
    "    node_to_node = clone(base_node_to_node)\n",
    "    \n",
    "    node_to_node.set_params(**params)\n",
    "    esn = ESNClassifier(input_to_node=input_to_node,\n",
    "                        node_to_node=node_to_node,\n",
    "                        regressor=FastIncrementalRegression(alpha=5e-3), random_state=10)\n",
    "    for X, y in zip(X_train, y_train):\n",
    "        y = np.repeat(y, repeats=8, axis=0)\n",
    "        esn.partial_fit(X=X, y=y.reshape(-1, 1), classes=range(10))\n",
    "    err_train = []\n",
    "    for X, y in zip(X_train, y_train):\n",
    "        y = np.repeat(np.atleast_2d(y), repeats=8, axis=0)\n",
    "        y_pred = esn.predict(X=X)\n",
    "        err_train.append(zero_one_loss(y, y_pred))\n",
    "    err_test = []\n",
    "    for X, y in zip(X_test, y_test):\n",
    "        y = np.repeat(np.atleast_2d(y), repeats=8, axis=0)\n",
    "        y_pred = esn.predict(X=X)\n",
    "        err_test.append(zero_one_loss(y, y_pred))\n",
    "    print('{0}\\t{1}'.format(np.mean(err_train), np.mean(err_test)))"
   ]
  },
  {
   "cell_type": "markdown",
   "metadata": {},
   "source": [
    "## Update parameter of the basic ESN\n",
    "\n",
    "After optimizing bias and leakage, we update our basic ESN with the identified values for bias and leakage. \n",
    "\n",
    "Finally, we would quickly like to see whether the regularization parameter beta lies in the correct range.\n",
    "\n",
    "Typically, it is rather difficult to find a proper search range. Here, we use a very rough logarithmic search space."
   ]
  },
  {
   "cell_type": "code",
   "execution_count": null,
   "metadata": {},
   "outputs": [],
   "source": [
    "base_input_to_node = InputToNode(hidden_layer_size=50, activation='identity', k_in=5, input_scaling=0.1,\n",
    "                                 bias_scaling=0.0, random_state=np.random.RandomState(10))\n",
    "base_node_to_node = NodeToNode(hidden_layer_size=50, spectral_radius=1.0, leakage=0.1, bias_scaling=1.5,\n",
    "                               k_rec=5, random_state=np.random.RandomState(10))\n",
    "\n",
    "base_esn = ESNClassifier(input_to_node=base_input_to_node,\n",
    "                         node_to_node=base_node_to_node,\n",
    "                         regressor=FastIncrementalRegression(alpha=1e-3))\n",
    "\n",
    "grid = {'alpha': [1e-5, 5e-5, 1e-4, 5e-4, 1e-3, 5e-3, 1e-2, 5e-2, 1e-1, 5e-1, 1e0], \n",
    "       }"
   ]
  },
  {
   "cell_type": "markdown",
   "metadata": {},
   "source": [
    "## Optimize alpha\n",
    "\n",
    "The optimization workflow is exactly the same as before: We define a ParameterGrid, loop over each entry, set the parameters in reg and fit our model on the training data. Afterwards, we report the MSE on the training and test set.  \n",
    "\n",
    "    The lowest training MSE: 0.055724644; parameter combination: {'beta': 0.00001}\n",
    "    The lowest test MSE: 0.062894856; parameter combination: {'beta': 0.01}\n",
    "\n",
    "We use the best parameter combination from the test set, because the regularization is responsible to prevent overfitting on the training set. In a running system, of course, we should determine the regularization on a separate validation set."
   ]
  },
  {
   "cell_type": "code",
   "execution_count": null,
   "metadata": {},
   "outputs": [],
   "source": [
    "for params in ParameterGrid(grid):\n",
    "    print(params)\n",
    "    input_to_node = clone(base_input_to_node)\n",
    "    node_to_node = clone(base_node_to_node)\n",
    "    \n",
    "    esn = ESNClassifier(input_to_node=input_to_node,\n",
    "                        node_to_node=node_to_node,\n",
    "                        regressor=FastIncrementalRegression(**params), random_state=10)\n",
    "    for X, y in zip(X_train, y_train):\n",
    "        y = np.repeat(y, repeats=8, axis=0)\n",
    "        esn.partial_fit(X=X, y=y.reshape(-1, 1), classes=range(10))\n",
    "    err_train = []\n",
    "    for X, y in zip(X_train, y_train):\n",
    "        y = np.repeat(np.atleast_2d(y), repeats=8, axis=0)\n",
    "        y_pred = esn.predict(X=X)\n",
    "        err_train.append(zero_one_loss(y, y_pred))\n",
    "    err_test = []\n",
    "    for X, y in zip(X_test, y_test):\n",
    "        y = np.repeat(np.atleast_2d(y), repeats=8, axis=0)\n",
    "        y_pred = esn.predict(X=X)\n",
    "        err_test.append(zero_one_loss(y, y_pred))\n",
    "    print('{0}\\t{1}'.format(np.mean(err_train), np.mean(err_test)))"
   ]
  },
  {
   "cell_type": "markdown",
   "metadata": {},
   "source": [
    "## Update parameter of the basic ESN\n",
    "\n",
    "After optimizing $\\alpha$, we update our basic ESN with the identified value for $\\alpha$.\n",
    "\n",
    "Note that we have used almost the ideal value already in the beginning. Thus, the impact is rather small.\n",
    "\n",
    "Next, we want to measure the classification accuracy. To do that, we compare several reservoir sizes as well as unidirectional and bidirectional architectures.\n",
    "\n",
    "Because this is a rather small dataset, we can use rather small reservoir sizes and increase it up to 5000 neurons."
   ]
  },
  {
   "cell_type": "code",
   "execution_count": null,
   "metadata": {},
   "outputs": [],
   "source": [
    "base_input_to_node = InputToNode(hidden_layer_size=50, activation='identity', k_in=5, input_scaling=0.1,\n",
    "                                 bias_scaling=0.0, random_state=np.random.RandomState(10))\n",
    "base_node_to_node = NodeToNode(hidden_layer_size=50, spectral_radius=1.0, leakage=0.1, bias_scaling=1.5,\n",
    "                               k_rec=5, random_state=np.random.RandomState(10))\n",
    "\n",
    "base_esn = ESNClassifier(input_to_node=base_input_to_node,\n",
    "                         node_to_node=base_node_to_node,\n",
    "                         regressor=FastIncrementalRegression(alpha=1e-5))\n",
    "\n",
    "grid = {'hidden_layer_size': [50, 100, 200, 400, 500, 800, 1000, 2000, 4000, 5000], \n",
    "        'bi_directional': [False, True]\n",
    "       }"
   ]
  },
  {
   "cell_type": "markdown",
   "metadata": {},
   "source": [
    "## Test the ESN\n",
    "\n",
    "In the test case, we use a simple variant of sequence classification:\n",
    "\n",
    "The ESN computes the output for each sequence. For classification, we just use the last output vector of each sequence. The highest index in that output vector is the label of the sequence.\n",
    "\n",
    "We store all ground truth labels and the predicted labels for training and test. Then, we use the scikit-learn's classification_report and plot a confusion matrix in order to show the classification performance.\n",
    "\n",
    "As can be seen, the reservoir size as a very strong impact on the classification result."
   ]
  },
  {
   "cell_type": "code",
   "execution_count": null,
   "metadata": {},
   "outputs": [],
   "source": [
    "for params in ParameterGrid(grid):\n",
    "    print(params)\n",
    "    input_to_node = clone(base_input_to_node).set_params(**{'hidden_layer_size': params['hidden_layer_size']})\n",
    "    node_to_node = clone(base_node_to_node).set_params(**params)\n",
    "    \n",
    "    esn = ESNClassifier(input_to_node=input_to_node,\n",
    "                        node_to_node=node_to_node,\n",
    "                        regressor=FastIncrementalRegression(alpha=1e-5), random_state=10)\n",
    "    for X, y in zip(X_train[:-1], y_train[:-1]):\n",
    "        y = np.repeat(y, repeats=8, axis=0)\n",
    "        esn.partial_fit(X=X, y=y.reshape(-1, 1), classes=range(10), postpone_inverse=True)\n",
    "    X = X_train[-1]\n",
    "    y = y_train[-1]\n",
    "    y = np.repeat(y, repeats=8, axis=0)\n",
    "    esn.partial_fit(X=X, y=y.reshape(-1, 1), classes=range(10), postpone_inverse=False)\n",
    "    Y_true_train = []\n",
    "    Y_pred_train = []\n",
    "    for X, y in zip(X_train, y_train):\n",
    "        y_pred = esn.predict_proba(X=X)\n",
    "        Y_true_train.append(y)\n",
    "        Y_pred_train.append(np.argmax(y_pred[-1, :]))\n",
    "    \n",
    "    Y_true_test = []\n",
    "    Y_pred_test = []\n",
    "    for X, y in zip(X_test, y_test):\n",
    "        y_pred = esn.predict_proba(X=X)\n",
    "        Y_true_test.append(y)\n",
    "        Y_pred_test.append(np.argmax(y_pred[-1, :]))\n",
    "    cm = confusion_matrix(Y_true_train, Y_pred_train)\n",
    "    cm_display = ConfusionMatrixDisplay(cm, display_labels=[0, 1, 2, 3, 4, 5, 6, 7, 8, 9]).plot()\n",
    "    print(\"Classification training report for estimator %s:\\n%s\\n\"\n",
    "      % (esn, classification_report(Y_true_train, Y_pred_train)))\n",
    "    plt.show()\n",
    "    \n",
    "    cm = confusion_matrix(Y_true_test, Y_pred_test)\n",
    "    cm_display = ConfusionMatrixDisplay(cm, display_labels=[0, 1, 2, 3, 4, 5, 6, 7, 8, 9]).plot()\n",
    "    print(\"Classification test report for estimator %s:\\n%s\\n\"\n",
    "      % (esn, classification_report(Y_true_test, Y_pred_test)))\n",
    "    plt.show()"
   ]
  },
  {
   "cell_type": "code",
   "execution_count": null,
   "metadata": {},
   "outputs": [],
   "source": []
  }
 ],
 "metadata": {
  "kernelspec": {
   "display_name": "Python 3",
   "language": "python",
   "name": "python3"
  },
  "language_info": {
   "codemirror_mode": {
    "name": "ipython",
    "version": 3
   },
   "file_extension": ".py",
   "mimetype": "text/x-python",
   "name": "python",
   "nbconvert_exporter": "python",
   "pygments_lexer": "ipython3",
   "version": "3.7.5"
  }
 },
 "nbformat": 4,
 "nbformat_minor": 2
}
