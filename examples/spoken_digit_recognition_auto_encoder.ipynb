{
 "cells": [
  {
   "cell_type": "markdown",
   "metadata": {},
   "source": [
    "Spoken digit recognition using the Free Spoken Digit Dataset (FSDD)\n",
    "\n",
    "At first, import packages to be used for the experiments"
   ]
  },
  {
   "cell_type": "code",
   "execution_count": 2,
   "metadata": {},
   "outputs": [],
   "source": [
    "import glob\n",
    "import os\n",
    "import numpy as np\n",
    "from sklearn.base import clone\n",
    "from sklearn.model_selection import train_test_split, GridSearchCV, ParameterGrid, cross_validate\n",
    "\n",
    "from sklearn.pipeline import FeatureUnion\n",
    "from sklearn.preprocessing import StandardScaler\n",
    "from sklearn.metrics import make_scorer, ConfusionMatrixDisplay\n",
    "from sklearn.cluster import MiniBatchKMeans, Birch\n",
    "from sklearn.utils import shuffle\n",
    "from joblib import Parallel, delayed, dump, load\n",
    "from pyrcn.echo_state_network import SeqToLabelESNClassifier\n",
    "from pyrcn.base.blocks import PredefinedWeightsInputToNode, NodeToNode\n",
    "from pyrcn.metrics import accuracy_score, classification_report, confusion_matrix\n",
    "from pyrcn.model_selection import SequentialSearchCV\n",
    "import matplotlib\n",
    "from matplotlib import pyplot as plt\n",
    "#Options\n",
    "plt.rc('image', cmap='RdBu')\n",
    "plt.rc('font', family='serif', serif='Times')\n",
    "plt.rc('text', usetex=True)\n",
    "plt.rc('xtick', labelsize=8)\n",
    "plt.rc('ytick', labelsize=8)\n",
    "plt.rc('axes', labelsize=8)\n",
    "\n",
    "from IPython.display import set_matplotlib_formats\n",
    "set_matplotlib_formats('png', 'pdf')\n",
    "from mpl_toolkits.axes_grid1 import make_axes_locatable\n",
    "from matplotlib import ticker\n",
    "import librosa\n",
    "import librosa.display"
   ]
  },
  {
   "cell_type": "markdown",
   "metadata": {},
   "source": [
    "Print number of files that are included in the dataset"
   ]
  },
  {
   "cell_type": "code",
   "execution_count": 3,
   "metadata": {},
   "outputs": [
    {
     "name": "stdout",
     "output_type": "stream",
     "text": [
      "3000\n"
     ]
    }
   ],
   "source": [
    "all_files = glob.glob(r\"E:\\free-spoken-digit-dataset\\recordings\\*.wav\")\n",
    "print(len(all_files))"
   ]
  },
  {
   "cell_type": "markdown",
   "metadata": {},
   "source": [
    "Feature visualization"
   ]
  },
  {
   "cell_type": "code",
   "execution_count": 4,
   "metadata": {
    "scrolled": true
   },
   "outputs": [
    {
     "data": {
      "image/png": "[encoded data removed]",
      "text/plain": [
       "<Figure size 432x288 with 3 Axes>"
      ]
     },
     "metadata": {
      "needs_background": "light"
     },
     "output_type": "display_data"
    }
   ],
   "source": [
    "# Load the audio signal and normalize it.\n",
    "basename = os.path.basename(all_files[0]).split('.')[0]\n",
    "x, sr = librosa.core.load(all_files[0], sr=None, mono=False)\n",
    "# x /= np.max(np.abs(x))\n",
    "mfcc = librosa.feature.mfcc(y=x, sr=sr, hop_length=int(0.01*sr), n_fft=256, htk=True, n_mels=100, n_mfcc=13)\n",
    "# X = np.vstack((mfcc, mfcc_delta, mfcc_delta2))\n",
    "X = mfcc.T\n",
    "label = int(basename.split('_')[0])\n",
    "# Define time axis in seconds\n",
    "t = np.arange(len(x)) / sr\n",
    "\n",
    "plt.subplot(2, 1, 1)\n",
    "plt.plot(t, x, color='gray')\n",
    "# plt.xlabel('Time (seconds)')\n",
    "# plt.ylabel('Amplitude')\n",
    "# plt.xlim([t[0], t[-1]])\n",
    "plt.ylim([-0.4, 0.4])\n",
    "plt.title(\"Speech signal\")\n",
    "plt.subplot(2, 1, 2)\n",
    "librosa.display.specshow(mfcc)\n",
    "plt.title('MFCC')\n",
    "plt.colorbar()\n",
    "plt.tight_layout()"
   ]
  },
  {
   "cell_type": "markdown",
   "metadata": {},
   "source": [
    "Extract features and labels from all signals"
   ]
  },
  {
   "cell_type": "code",
   "execution_count": 5,
   "metadata": {},
   "outputs": [
    {
     "name": "stdout",
     "output_type": "stream",
     "text": [
      "extracting features...\n",
      "done!\n"
     ]
    }
   ],
   "source": [
    "X_train = []\n",
    "X_test = []\n",
    "y_train = []\n",
    "y_test = []\n",
    "print(\"extracting features...\")\n",
    "for k, f in enumerate(all_files):\n",
    "    basename = os.path.basename(f).split('.')[0]\n",
    "    # Get label (0-9) of recording.\n",
    "    label = int(basename.split('_')[0])\n",
    "    idx = int(basename.split('_')[2])\n",
    "    # Load the audio signal and normalize it.\n",
    "    x, sr = librosa.core.load(f, sr=None, mono=False)\n",
    "    # x /= np.max(np.abs(x))\n",
    "    mfcc = librosa.feature.mfcc(y=x, sr=sr, hop_length=int(0.01*sr), n_fft=256, htk=True, n_mels=100, n_mfcc=13)\n",
    "    mfcc_delta = librosa.feature.delta(mfcc)\n",
    "    mfcc_delta2 = librosa.feature.delta(mfcc, order=2)\n",
    "    if idx <= 4:\n",
    "        X_test.append(mfcc.T)\n",
    "        y_test.append(label)\n",
    "    else:\n",
    "        X_train.append(mfcc.T)\n",
    "        y_train.append(label)\n",
    "print(\"done!\")"
   ]
  },
  {
   "cell_type": "markdown",
   "metadata": {},
   "source": [
    "## Normalize all features using the StandardScaler from scikit-learn.\""
   ]
  },
  {
   "cell_type": "code",
   "execution_count": 6,
   "metadata": {},
   "outputs": [],
   "source": [
    "scaler = StandardScaler().fit(X=np.vstack(X_train))\n",
    "X_train_scaled = np.empty(shape=(len(X_train),), dtype=object)\n",
    "X_test_scaled = np.empty(shape=(len(X_test),), dtype=object)\n",
    "y_train = np.array(y_train, dtype=object)\n",
    "X_train, X_train_scaled, y_train = shuffle(X_train, X_train_scaled, y_train)\n",
    "y_test = np.array(y_test, dtype=object)\n",
    "for k in range(len(X_train)):\n",
    "    X_train_scaled[k] = scaler.transform(X_train[k])\n",
    "    y_train[k] = np.atleast_1d(y_train[k]).astype(int)\n",
    "for k in range(len(X_test)):\n",
    "    X_test_scaled[k] = scaler.transform(X_test[k])\n",
    "    y_test[k] = np.atleast_1d(y_test[k]).astype(int)"
   ]
  },
  {
   "cell_type": "markdown",
   "metadata": {},
   "source": [
    "Validate training and test sizes"
   ]
  },
  {
   "cell_type": "code",
   "execution_count": 7,
   "metadata": {
    "scrolled": true
   },
   "outputs": [
    {
     "name": "stdout",
     "output_type": "stream",
     "text": [
      "2700 2700 (45, 13) [6]\n",
      "300 300 (30, 13) [0]\n"
     ]
    }
   ],
   "source": [
    "print(len(X_train), len(y_train), X_train[0].shape, y_train[0])\n",
    "print(len(X_test), len(y_test), X_test[0].shape, y_test[0])"
   ]
  },
  {
   "cell_type": "markdown",
   "metadata": {},
   "source": [
    "Feature visualization"
   ]
  },
  {
   "cell_type": "code",
   "execution_count": 8,
   "metadata": {},
   "outputs": [
    {
     "data": {
      "image/png": "[encoded data removed]",
      "text/plain": [
       "<Figure size 432x288 with 5 Axes>"
      ]
     },
     "metadata": {
      "needs_background": "light"
     },
     "output_type": "display_data"
    }
   ],
   "source": [
    "# Load the audio signal and normalize it.\n",
    "basename = os.path.basename(all_files[0]).split('.')[0]\n",
    "x, sr = librosa.core.load(all_files[0], sr=None, mono=False)\n",
    "# x /= np.max(np.abs(x))\n",
    "mfcc = librosa.feature.mfcc(y=x, sr=sr, hop_length=int(0.01*sr), n_fft=256, htk=True, n_mels=100, n_mfcc=13)\n",
    "X = mfcc.T\n",
    "label = int(basename.split('_')[0])\n",
    "# Define time axis in seconds\n",
    "t = np.arange(len(x)) / sr\n",
    "\n",
    "plt.subplot(3, 1, 1)\n",
    "plt.plot(t, x, color='gray')\n",
    "# plt.xlabel('Time (seconds)')\n",
    "# plt.ylabel('Amplitude')\n",
    "# plt.xlim([t[0], t[-1]])\n",
    "# plt.ylim([-0.4, 0.4])\n",
    "plt.title(\"Speech signal\")\n",
    "plt.subplot(3, 1, 2)\n",
    "librosa.display.specshow(mfcc)\n",
    "plt.title('MFCC')\n",
    "plt.colorbar()\n",
    "plt.subplot(3, 1, 3)\n",
    "librosa.display.specshow(X_train[0].T, x_axis='time')\n",
    "plt.colorbar()\n",
    "plt.tight_layout()"
   ]
  },
  {
   "cell_type": "code",
   "execution_count": 34,
   "metadata": {},
   "outputs": [],
   "source": [
    "from sklearn.neural_network import MLPRegressor\n",
    "initially_fixed_params = {'hidden_layer_sizes': (50, ),\n",
    "                          'activation': 'relu',\n",
    "                          'random_state': 42}\n",
    "\n",
    "mlp_enc = MLPRegressor(hidden_layer_sizes=(50, ) activation='relu', random_state=42).fit(np.concatenate(X_train_scaled), np.concatenate(X_train_scaled))"
   ]
  },
  {
   "cell_type": "code",
   "execution_count": 35,
   "metadata": {},
   "outputs": [
    {
     "data": {
      "text/plain": [
       "<matplotlib.image.AxesImage at 0x136faf15a08>"
      ]
     },
     "execution_count": 35,
     "metadata": {},
     "output_type": "execute_result"
    },
    {
     "data": {
      "image/png": "[encoded data removed]",
      "text/plain": [
       "<Figure size 432x288 with 1 Axes>"
      ]
     },
     "metadata": {
      "needs_background": "light"
     },
     "output_type": "display_data"
    }
   ],
   "source": [
    "plt.imshow(X_test_scaled[0].T)"
   ]
  },
  {
   "cell_type": "code",
   "execution_count": 36,
   "metadata": {},
   "outputs": [
    {
     "data": {
      "text/plain": [
       "<matplotlib.image.AxesImage at 0x136faf7ee88>"
      ]
     },
     "execution_count": 36,
     "metadata": {},
     "output_type": "execute_result"
    },
    {
     "data": {
      "image/png": "[encoded data removed]",
      "text/plain": [
       "<Figure size 432x288 with 1 Axes>"
      ]
     },
     "metadata": {
      "needs_background": "light"
     },
     "output_type": "display_data"
    }
   ],
   "source": [
    "plt.imshow(mlp_enc.predict(X_test_scaled[0]).T)"
   ]
  },
  {
   "cell_type": "code",
   "execution_count": 42,
   "metadata": {},
   "outputs": [
    {
     "name": "stdout",
     "output_type": "stream",
     "text": [
      "Fitting 5 folds for each of 110 candidates, totalling 550 fits\n"
     ]
    },
    {
     "name": "stderr",
     "output_type": "stream",
     "text": [
      "[Parallel(n_jobs=-1)]: Using backend LokyBackend with 8 concurrent workers.\n",
      "[Parallel(n_jobs=-1)]: Done  34 tasks      | elapsed:  1.4min\n",
      "[Parallel(n_jobs=-1)]: Done 184 tasks      | elapsed:  6.8min\n",
      "[Parallel(n_jobs=-1)]: Done 434 tasks      | elapsed: 16.1min\n",
      "[Parallel(n_jobs=-1)]: Done 550 out of 550 | elapsed: 20.7min finished\n"
     ]
    },
    {
     "name": "stdout",
     "output_type": "stream",
     "text": [
      "Fitting 5 folds for each of 10 candidates, totalling 50 fits\n"
     ]
    },
    {
     "name": "stderr",
     "output_type": "stream",
     "text": [
      "[Parallel(n_jobs=-1)]: Using backend LokyBackend with 8 concurrent workers.\n",
      "[Parallel(n_jobs=-1)]: Done  34 tasks      | elapsed:  1.5min\n",
      "[Parallel(n_jobs=-1)]: Done  50 out of  50 | elapsed:  2.0min finished\n"
     ]
    },
    {
     "name": "stdout",
     "output_type": "stream",
     "text": [
      "Fitting 5 folds for each of 11 candidates, totalling 55 fits\n"
     ]
    },
    {
     "name": "stderr",
     "output_type": "stream",
     "text": [
      "[Parallel(n_jobs=-1)]: Using backend LokyBackend with 8 concurrent workers.\n",
      "[Parallel(n_jobs=-1)]: Done  34 tasks      | elapsed:  1.5min\n",
      "[Parallel(n_jobs=-1)]: Done  55 out of  55 | elapsed:  2.1min finished\n"
     ]
    },
    {
     "name": "stdout",
     "output_type": "stream",
     "text": [
      "Fitting 5 folds for each of 11 candidates, totalling 55 fits\n"
     ]
    },
    {
     "name": "stderr",
     "output_type": "stream",
     "text": [
      "[Parallel(n_jobs=-1)]: Using backend LokyBackend with 8 concurrent workers.\n",
      "[Parallel(n_jobs=-1)]: Done  34 tasks      | elapsed:  1.4min\n",
      "[Parallel(n_jobs=-1)]: Done  55 out of  55 | elapsed:  2.0min finished\n"
     ]
    }
   ],
   "source": [
    "initially_fixed_params = {'hidden_layer_size': 50,\n",
    "                          'k_in': 10,\n",
    "                          'input_scaling': 0.4,\n",
    "                          'input_activation': 'identity',\n",
    "                          'bias_scaling': 0.0,\n",
    "                          'spectral_radius': 0.0,\n",
    "                          'leakage': 0.1,\n",
    "                          'k_rec': 10,\n",
    "                          'reservoir_activation': 'tanh',\n",
    "                          'bidirectional': False,\n",
    "                          'wash_out': 0,\n",
    "                          'continuation': False,\n",
    "                          'alpha': 1e-3,\n",
    "                          'random_state': 42}\n",
    "\n",
    "step1_esn_params = {'input_scaling': np.linspace(0.1, 1.0, 10),\n",
    "                    'spectral_radius': np.linspace(0.0, 1.0, 11)}\n",
    "\n",
    "step2_esn_params = {'leakage': np.linspace(0.1, 1.0, 10)}\n",
    "step3_esn_params = {'bias_scaling': np.linspace(0.0, 1.0, 11)}\n",
    "step4_esn_params = {'alpha': [1e-5, 5e-5, 1e-4, 5e-4, 1e-3, 5e-3, 1e-2, 5e-2, 1e-1, 5e-1, 1e0]}\n",
    "\n",
    "kwargs = {'verbose': 1, 'n_jobs': -1, 'scoring': make_scorer(accuracy_score)}\n",
    "\n",
    "# The searches are defined similarly to the steps of a sklearn.pipeline.Pipeline:\n",
    "searches = [('step1', GridSearchCV, step1_esn_params, kwargs),\n",
    "            ('step2', GridSearchCV, step2_esn_params, kwargs),\n",
    "            ('step3', GridSearchCV, step3_esn_params, kwargs),\n",
    "            ('step4', GridSearchCV, step4_esn_params, kwargs)]\n",
    "\n",
    "w_in = np.divide(mlp_enc.coefs_[0], np.linalg.norm(mlp_enc.coefs_[0], axis=0)[None, :])\n",
    "\n",
    "base_esn = SeqToLabelESNClassifier(input_to_node=PredefinedWeightsInputToNode(predefined_input_weights=w_in),\n",
    "                                   **initially_fixed_params)\n",
    "\n",
    "try:\n",
    "    sequential_search = load(\"sequential_search_enc.joblib\")\n",
    "except FileNotFoundError:\n",
    "    sequential_search = SequentialSearchCV(base_esn, searches=searches).fit(X_train_scaled, y_train)\n",
    "    dump(sequential_search, \"sequential_search_enc.joblib\")"
   ]
  },
  {
   "cell_type": "code",
   "execution_count": 43,
   "metadata": {
    "scrolled": true
   },
   "outputs": [
    {
     "data": {
      "image/png": "[encoded data removed]",
      "text/plain": [
       "<Figure size 432x288 with 2 Axes>"
      ]
     },
     "metadata": {
      "needs_background": "light"
     },
     "output_type": "display_data"
    },
    {
     "name": "stdout",
     "output_type": "stream",
     "text": [
      "Classification training report for estimator SeqToLabelESNClassifier(input_to_node=PredefinedWeightsInputToNode(bias_scaling=1.0,\n",
      "                                                                   input_activation='identity',\n",
      "                                                                   input_scaling=0.30000000000000004,\n",
      "                                                                   predefined_input_weights=array([[-0.21722455,  0.21671072, -0.16822506, -0.17157664,  0.23179956,\n",
      "         0.08013764,  0.2316542 ,  0.62646986,  0.1538077 , -0.20250126,\n",
      "        -0.25307936,  0.69035135,  0.05105275,  0.00843211, -0.23168108,\n",
      "        -0...\n",
      "         0.60566325,  0.41444402,  0.16921268,  0.00225809, -0.05136088,\n",
      "         0.47078896,  0.20017208, -0.17349911, -0.0931454 , -0.16875862,\n",
      "        -0.48320937, -0.24593096, -0.25065031, -0.09110927, -0.32605403,\n",
      "         0.11138711, -0.09097813,  0.0487236 ,  0.17290258, -0.16503102]])),\n",
      "                        node_to_node=NodeToNode(hidden_layer_size=50, k_rec=10,\n",
      "                                                leakage=0.1, sparsity=0.2,\n",
      "                                                spectral_radius=0.9),\n",
      "                        regressor=IncrementalRegression()):\n",
      "              precision    recall  f1-score   support\n",
      "\n",
      "           0  0.7442528736 0.9592592593 0.8381877023       270\n",
      "           1  0.9197860963 0.6370370370 0.7527352298       270\n",
      "           2  0.9477911647 0.8740740741 0.9094412331       270\n",
      "           3  0.9415204678 0.5962962963 0.7301587302       270\n",
      "           4  0.9368029740 0.9333333333 0.9350649351       270\n",
      "           5  0.7926829268 0.9629629630 0.8695652174       270\n",
      "           6  0.8189655172 0.7037037037 0.7569721116       270\n",
      "           7  0.8600000000 0.9555555556 0.9052631579       270\n",
      "           8  0.7485875706 0.9814814815 0.8493589744       270\n",
      "           9  0.8778625954 0.8518518519 0.8646616541       270\n",
      "\n",
      "    accuracy                      0.8455555556      2700\n",
      "   macro avg  0.8588252186 0.8455555556 0.8411408946      2700\n",
      "weighted avg  0.8588252186 0.8455555556 0.8411408946      2700\n",
      "\n",
      "\n"
     ]
    },
    {
     "data": {
      "image/png": "[encoded data removed]",
      "text/plain": [
       "<Figure size 432x288 with 2 Axes>"
      ]
     },
     "metadata": {
      "needs_background": "light"
     },
     "output_type": "display_data"
    },
    {
     "name": "stdout",
     "output_type": "stream",
     "text": [
      "Classification test report for estimator SeqToLabelESNClassifier(input_to_node=PredefinedWeightsInputToNode(bias_scaling=1.0,\n",
      "                                                                   input_activation='identity',\n",
      "                                                                   input_scaling=0.30000000000000004,\n",
      "                                                                   predefined_input_weights=array([[-0.21722455,  0.21671072, -0.16822506, -0.17157664,  0.23179956,\n",
      "         0.08013764,  0.2316542 ,  0.62646986,  0.1538077 , -0.20250126,\n",
      "        -0.25307936,  0.69035135,  0.05105275,  0.00843211, -0.23168108,\n",
      "        -0...\n",
      "         0.60566325,  0.41444402,  0.16921268,  0.00225809, -0.05136088,\n",
      "         0.47078896,  0.20017208, -0.17349911, -0.0931454 , -0.16875862,\n",
      "        -0.48320937, -0.24593096, -0.25065031, -0.09110927, -0.32605403,\n",
      "         0.11138711, -0.09097813,  0.0487236 ,  0.17290258, -0.16503102]])),\n",
      "                        node_to_node=NodeToNode(hidden_layer_size=50, k_rec=10,\n",
      "                                                leakage=0.1, sparsity=0.2,\n",
      "                                                spectral_radius=0.9),\n",
      "                        regressor=IncrementalRegression()):\n",
      "              precision    recall  f1-score   support\n",
      "\n",
      "           0  0.8000000000 0.9333333333 0.8615384615        30\n",
      "           1  0.9090909091 0.6666666667 0.7692307692        30\n",
      "           2  0.8620689655 0.8333333333 0.8474576271        30\n",
      "           3  0.8888888889 0.5333333333 0.6666666667        30\n",
      "           4  0.9000000000 0.9000000000 0.9000000000        30\n",
      "           5  0.8055555556 0.9666666667 0.8787878788        30\n",
      "           6  0.8571428571 0.8000000000 0.8275862069        30\n",
      "           7  0.8787878788 0.9666666667 0.9206349206        30\n",
      "           8  0.7631578947 0.9666666667 0.8529411765        30\n",
      "           9  0.8387096774 0.8666666667 0.8524590164        30\n",
      "\n",
      "    accuracy                      0.8433333333       300\n",
      "   macro avg  0.8503402627 0.8433333333 0.8377302724       300\n",
      "weighted avg  0.8503402627 0.8433333333 0.8377302724       300\n",
      "\n",
      "\n"
     ]
    }
   ],
   "source": [
    "esn = sequential_search.best_estimator_\n",
    "y_pred_train = esn.predict(X=X_train_scaled)\n",
    "cm = confusion_matrix(y_train, y_pred_train)\n",
    "cm_display = ConfusionMatrixDisplay(cm, display_labels=[0, 1, 2, 3, 4, 5, 6, 7, 8, 9]).plot()\n",
    "plt.show()\n",
    "print(\"Classification training report for estimator %s:\\n%s\\n\" % (esn, classification_report(y_train, y_pred_train, digits=10)))\n",
    "\n",
    "y_pred_test = esn.predict(X=X_test_scaled)\n",
    "cm = confusion_matrix(y_test, y_pred_test)\n",
    "cm_display = ConfusionMatrixDisplay(cm, display_labels=[0, 1, 2, 3, 4, 5, 6, 7, 8, 9]).plot()\n",
    "plt.show()\n",
    "print(\"Classification test report for estimator %s:\\n%s\\n\" % (esn, classification_report(y_test, y_pred_test, digits=10)))"
   ]
  },
  {
   "cell_type": "code",
   "execution_count": 46,
   "metadata": {
    "scrolled": true
   },
   "outputs": [
    {
     "name": "stdout",
     "output_type": "stream",
     "text": [
      "CV results\tFit time\tInference time\tAccuracy score\tSize[Bytes]\n"
     ]
    },
    {
     "name": "stderr",
     "output_type": "stream",
     "text": [
      "[Parallel(n_jobs=8)]: Using backend LokyBackend with 8 concurrent workers.\n",
      "[Parallel(n_jobs=8)]: Done   3 out of   8 | elapsed:    2.3s remaining:    3.9s\n",
      "[Parallel(n_jobs=8)]: Done   8 out of   8 | elapsed:    3.0s remaining:    0.0s\n",
      "[Parallel(n_jobs=8)]: Done   8 out of   8 | elapsed:    3.0s finished\n"
     ]
    },
    {
     "name": "stdout",
     "output_type": "stream",
     "text": [
      "{'fit_time': array([10.49891925, 10.51796961, 10.96967125, 11.59032297, 11.26846552]), 'score_time': array([2.15673614, 2.37982869, 2.06849909, 2.08004737, 1.86245322]), 'test_score': array([0.75925926, 0.75740741, 0.78333333, 0.81851852, 0.77407407])}\t0.8266666666666667\n"
     ]
    },
    {
     "name": "stderr",
     "output_type": "stream",
     "text": [
      "[Parallel(n_jobs=8)]: Using backend LokyBackend with 8 concurrent workers.\n",
      "[Parallel(n_jobs=8)]: Done   3 out of   8 | elapsed:    2.3s remaining:    4.0s\n",
      "[Parallel(n_jobs=8)]: Done   8 out of   8 | elapsed:    2.4s remaining:    0.0s\n",
      "[Parallel(n_jobs=8)]: Done   8 out of   8 | elapsed:    2.4s finished\n"
     ]
    },
    {
     "name": "stdout",
     "output_type": "stream",
     "text": [
      "{'fit_time': array([10.58665347, 11.94526505, 10.9696641 , 11.25442958, 12.00993776]), 'score_time': array([2.65606308, 1.8604486 , 2.58938575, 2.25549626, 2.09055972]), 'test_score': array([0.89444444, 0.87222222, 0.89074074, 0.89074074, 0.88333333])}\t0.9\n"
     ]
    },
    {
     "name": "stderr",
     "output_type": "stream",
     "text": [
      "[Parallel(n_jobs=8)]: Using backend LokyBackend with 8 concurrent workers.\n",
      "[Parallel(n_jobs=8)]: Done   3 out of   8 | elapsed:    2.8s remaining:    4.7s\n",
      "[Parallel(n_jobs=8)]: Done   8 out of   8 | elapsed:    2.8s remaining:    0.0s\n",
      "[Parallel(n_jobs=8)]: Done   8 out of   8 | elapsed:    2.8s finished\n"
     ]
    },
    {
     "name": "stdout",
     "output_type": "stream",
     "text": [
      "{'fit_time': array([13.51949358, 13.40536237, 13.21484518, 12.47522569, 13.73758364]), 'score_time': array([2.56177711, 2.54226017, 2.81251144, 2.94780803, 2.3587389 ]), 'test_score': array([0.94814815, 0.95      , 0.94444444, 0.94444444, 0.9462963 ])}\t0.96\n"
     ]
    },
    {
     "name": "stderr",
     "output_type": "stream",
     "text": [
      "[Parallel(n_jobs=8)]: Using backend LokyBackend with 8 concurrent workers.\n",
      "[Parallel(n_jobs=8)]: Done   3 out of   8 | elapsed:    4.5s remaining:    7.5s\n",
      "[Parallel(n_jobs=8)]: Done   8 out of   8 | elapsed:    4.5s remaining:    0.0s\n",
      "[Parallel(n_jobs=8)]: Done   8 out of   8 | elapsed:    4.5s finished\n"
     ]
    },
    {
     "name": "stdout",
     "output_type": "stream",
     "text": [
      "{'fit_time': array([18.31250715, 17.93969369, 17.92640471, 18.17589569, 17.03335023]), 'score_time': array([2.85001826, 2.75632858, 2.88216496, 2.48159695, 2.96287942]), 'test_score': array([0.97592593, 0.98333333, 0.96666667, 0.95740741, 0.97222222])}\t0.9833333333333333\n"
     ]
    },
    {
     "name": "stderr",
     "output_type": "stream",
     "text": [
      "[Parallel(n_jobs=8)]: Using backend LokyBackend with 8 concurrent workers.\n",
      "[Parallel(n_jobs=8)]: Done   3 out of   8 | elapsed:    5.8s remaining:    9.7s\n",
      "[Parallel(n_jobs=8)]: Done   8 out of   8 | elapsed:    5.8s remaining:    0.0s\n",
      "[Parallel(n_jobs=8)]: Done   8 out of   8 | elapsed:    5.8s finished\n"
     ]
    },
    {
     "name": "stdout",
     "output_type": "stream",
     "text": [
      "{'fit_time': array([23.15895224, 21.81910849, 22.90533805, 22.6667726 , 23.43782163]), 'score_time': array([2.67711926, 2.76787424, 3.12631512, 3.18296385, 2.71772647]), 'test_score': array([0.97962963, 0.98703704, 0.97777778, 0.97222222, 0.97407407])}\t0.99\n"
     ]
    },
    {
     "name": "stderr",
     "output_type": "stream",
     "text": [
      "[Parallel(n_jobs=8)]: Using backend LokyBackend with 8 concurrent workers.\n",
      "[Parallel(n_jobs=8)]: Done   3 out of   8 | elapsed:   18.7s remaining:   31.3s\n",
      "[Parallel(n_jobs=8)]: Done   8 out of   8 | elapsed:   20.2s remaining:    0.0s\n",
      "[Parallel(n_jobs=8)]: Done   8 out of   8 | elapsed:   20.2s finished\n"
     ]
    },
    {
     "name": "stdout",
     "output_type": "stream",
     "text": [
      "{'fit_time': array([75.6469295 , 73.62882209, 74.07773161, 73.66011596, 73.95257878]), 'score_time': array([3.66881132, 4.05932593, 4.17262697, 4.26286912, 4.08439493]), 'test_score': array([0.98333333, 0.99074074, 0.98888889, 0.98518519, 0.98333333])}\t0.98\n"
     ]
    },
    {
     "name": "stderr",
     "output_type": "stream",
     "text": [
      "[Parallel(n_jobs=8)]: Using backend LokyBackend with 8 concurrent workers.\n",
      "[Parallel(n_jobs=8)]: Done   3 out of   8 | elapsed:  1.2min remaining:  1.9min\n",
      "[Parallel(n_jobs=8)]: Done   8 out of   8 | elapsed:  1.2min remaining:    0.0s\n",
      "[Parallel(n_jobs=8)]: Done   8 out of   8 | elapsed:  1.2min finished\n"
     ]
    },
    {
     "name": "stdout",
     "output_type": "stream",
     "text": [
      "{'fit_time': array([280.62688112, 279.74191093, 280.4990263 , 279.54462242,\n",
      "       280.55718064]), 'score_time': array([6.63114905, 7.08070159, 7.12931585, 7.02254748, 6.62408066]), 'test_score': array([0.98703704, 0.99444444, 0.9962963 , 0.98888889, 0.99444444])}\t0.99\n"
     ]
    },
    {
     "name": "stderr",
     "output_type": "stream",
     "text": [
      "[Parallel(n_jobs=8)]: Using backend LokyBackend with 8 concurrent workers.\n",
      "[Parallel(n_jobs=8)]: Done   3 out of   8 | elapsed:  4.5min remaining:  7.6min\n",
      "[Parallel(n_jobs=8)]: Done   8 out of   8 | elapsed:  4.6min remaining:    0.0s\n",
      "[Parallel(n_jobs=8)]: Done   8 out of   8 | elapsed:  4.6min finished\n"
     ]
    },
    {
     "name": "stdout",
     "output_type": "stream",
     "text": [
      "{'fit_time': array([1086.54582095, 1089.37936282, 1088.1103332 , 1088.60087061,\n",
      "       1086.57613206]), 'score_time': array([14.93619084, 13.72016668, 14.70105696, 13.82821822, 15.15326571]), 'test_score': array([0.99259259, 0.9962963 , 0.9962963 , 0.98703704, 0.99259259])}\t0.9933333333333333\n"
     ]
    }
   ],
   "source": [
    "param_grid = {'hidden_layer_size': [50, 100, 200, 400, 500, 1000, 2000, 4000]}\n",
    "print(\"CV results\\tFit time\\tInference time\\tAccuracy score\\tSize[Bytes]\")\n",
    "for params in ParameterGrid(param_grid):\n",
    "    mlp_enc = MLPRegressor(hidden_layer_sizes=params['hidden_layer_size'], activation='relu', random_state=42).fit(np.concatenate(X_train_scaled), np.concatenate(X_train_scaled))\n",
    "    w_in = np.divide(mlp_enc.coefs_[0], np.linalg.norm(mlp_enc.coefs_[0], axis=0)[None, :])\n",
    "    base_esn = clone(sequential_search.best_estimator_)\n",
    "    base_esn.input_to_node = PredefinedWeightsInputToNode(predefined_input_weights=w_in)\n",
    "    base_esn.set_params(**params)\n",
    "    esn_cv = cross_validate(clone(base_esn), X=X_train_scaled, y=y_train, \n",
    "                            scoring=make_scorer(accuracy_score), n_jobs=-1)\n",
    "    esn = clone(base_esn).fit(X_train_scaled, y_train, n_jobs=8)\n",
    "    acc_score = accuracy_score(y_test, esn.predict(X_test_scaled))\n",
    "    print(\"{0}\\t{1}\".format(esn_cv, acc_score))"
   ]
  },
  {
   "cell_type": "code",
   "execution_count": null,
   "metadata": {},
   "outputs": [],
   "source": []
  }
 ],
 "metadata": {
  "kernelspec": {
   "display_name": "Python 3",
   "language": "python",
   "name": "python3"
  },
  "language_info": {
   "codemirror_mode": {
    "name": "ipython",
    "version": 3
   },
   "file_extension": ".py",
   "mimetype": "text/x-python",
   "name": "python",
   "nbconvert_exporter": "python",
   "pygments_lexer": "ipython3",
   "version": "3.7.5"
  }
 },
 "nbformat": 4,
 "nbformat_minor": 2
}
